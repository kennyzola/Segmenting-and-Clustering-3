{
    "cells": [
        {
            "cell_type": "markdown",
            "metadata": {},
            "source": "<b>Import the necessary library</b>\n"
        },
        {
            "cell_type": "code",
            "execution_count": 1,
            "metadata": {},
            "outputs": [],
            "source": "import requests\nimport pandas as pd"
        },
        {
            "cell_type": "markdown",
            "metadata": {},
            "source": "<b>Get the HTML of the Wiki page, convert into a table with help of read_html</b>"
        },
        {
            "cell_type": "code",
            "execution_count": 2,
            "metadata": {},
            "outputs": [],
            "source": "wiki = 'https://en.wikipedia.org/wiki/List_of_postal_codes_of_Canada:_M'\nwikipedia_sheet = requests.get(wiki)\ndf_raw = pd.read_html(wikipedia_sheet.content, header=0)[0]"
        },
        {
            "cell_type": "markdown",
            "metadata": {},
            "source": "<b> remove cells with a borough that is Not assigned.</b>"
        },
        {
            "cell_type": "code",
            "execution_count": 3,
            "metadata": {},
            "outputs": [
                {
                    "data": {
                        "text/html": "<div>\n<style scoped>\n    .dataframe tbody tr th:only-of-type {\n        vertical-align: middle;\n    }\n\n    .dataframe tbody tr th {\n        vertical-align: top;\n    }\n\n    .dataframe thead th {\n        text-align: right;\n    }\n</style>\n<table border=\"1\" class=\"dataframe\">\n  <thead>\n    <tr style=\"text-align: right;\">\n      <th></th>\n      <th>Postal Code</th>\n      <th>Borough</th>\n      <th>Neighbourhood</th>\n    </tr>\n  </thead>\n  <tbody>\n    <tr>\n      <th>2</th>\n      <td>M3A</td>\n      <td>North York</td>\n      <td>Parkwoods</td>\n    </tr>\n    <tr>\n      <th>3</th>\n      <td>M4A</td>\n      <td>North York</td>\n      <td>Victoria Village</td>\n    </tr>\n    <tr>\n      <th>4</th>\n      <td>M5A</td>\n      <td>Downtown Toronto</td>\n      <td>Regent Park, Harbourfront</td>\n    </tr>\n    <tr>\n      <th>5</th>\n      <td>M6A</td>\n      <td>North York</td>\n      <td>Lawrence Manor, Lawrence Heights</td>\n    </tr>\n    <tr>\n      <th>6</th>\n      <td>M7A</td>\n      <td>Downtown Toronto</td>\n      <td>Queen's Park, Ontario Provincial Government</td>\n    </tr>\n  </tbody>\n</table>\n</div>",
                        "text/plain": "  Postal Code           Borough                                Neighbourhood\n2         M3A        North York                                    Parkwoods\n3         M4A        North York                             Victoria Village\n4         M5A  Downtown Toronto                    Regent Park, Harbourfront\n5         M6A        North York             Lawrence Manor, Lawrence Heights\n6         M7A  Downtown Toronto  Queen's Park, Ontario Provincial Government"
                    },
                    "execution_count": 3,
                    "metadata": {},
                    "output_type": "execute_result"
                }
            ],
            "source": "df_new = df_raw[df_raw.Borough != 'Not assigned']\ndf_new.head()"
        },
        {
            "cell_type": "markdown",
            "metadata": {},
            "source": "<b>Check the table where \"Neighbourhood\" == 'Not assigned' </b>"
        },
        {
            "cell_type": "code",
            "execution_count": 4,
            "metadata": {},
            "outputs": [
                {
                    "data": {
                        "text/html": "<div>\n<style scoped>\n    .dataframe tbody tr th:only-of-type {\n        vertical-align: middle;\n    }\n\n    .dataframe tbody tr th {\n        vertical-align: top;\n    }\n\n    .dataframe thead th {\n        text-align: right;\n    }\n</style>\n<table border=\"1\" class=\"dataframe\">\n  <thead>\n    <tr style=\"text-align: right;\">\n      <th></th>\n      <th>Postal Code</th>\n      <th>Borough</th>\n      <th>Neighbourhood</th>\n    </tr>\n  </thead>\n  <tbody>\n  </tbody>\n</table>\n</div>",
                        "text/plain": "Empty DataFrame\nColumns: [Postal Code, Borough, Neighbourhood]\nIndex: []"
                    },
                    "execution_count": 4,
                    "metadata": {},
                    "output_type": "execute_result"
                }
            ],
            "source": "df_new.loc[df_new.Neighbourhood == 'Not assigned']"
        },
        {
            "cell_type": "markdown",
            "metadata": {},
            "source": "<b>If a cell has a borough but a Not assigned neighborhood, then the neighborhood will be the same as the borough.</b>"
        },
        {
            "cell_type": "code",
            "execution_count": 6,
            "metadata": {},
            "outputs": [
                {
                    "data": {
                        "text/html": "<div>\n<style scoped>\n    .dataframe tbody tr th:only-of-type {\n        vertical-align: middle;\n    }\n\n    .dataframe tbody tr th {\n        vertical-align: top;\n    }\n\n    .dataframe thead th {\n        text-align: right;\n    }\n</style>\n<table border=\"1\" class=\"dataframe\">\n  <thead>\n    <tr style=\"text-align: right;\">\n      <th></th>\n      <th>Postal Code</th>\n      <th>Borough</th>\n      <th>Neighbourhood</th>\n    </tr>\n  </thead>\n  <tbody>\n    <tr>\n      <th>2</th>\n      <td>M3A</td>\n      <td>North York</td>\n      <td>Parkwoods</td>\n    </tr>\n    <tr>\n      <th>3</th>\n      <td>M4A</td>\n      <td>North York</td>\n      <td>Victoria Village</td>\n    </tr>\n    <tr>\n      <th>4</th>\n      <td>M5A</td>\n      <td>Downtown Toronto</td>\n      <td>Regent Park, Harbourfront</td>\n    </tr>\n    <tr>\n      <th>5</th>\n      <td>M6A</td>\n      <td>North York</td>\n      <td>Lawrence Manor, Lawrence Heights</td>\n    </tr>\n    <tr>\n      <th>6</th>\n      <td>M7A</td>\n      <td>Downtown Toronto</td>\n      <td>Queen's Park, Ontario Provincial Government</td>\n    </tr>\n    <tr>\n      <th>8</th>\n      <td>M9A</td>\n      <td>Etobicoke</td>\n      <td>Islington Avenue, Humber Valley Village</td>\n    </tr>\n    <tr>\n      <th>9</th>\n      <td>M1B</td>\n      <td>Scarborough</td>\n      <td>Malvern, Rouge</td>\n    </tr>\n    <tr>\n      <th>11</th>\n      <td>M3B</td>\n      <td>North York</td>\n      <td>Don Mills</td>\n    </tr>\n  </tbody>\n</table>\n</div>",
                        "text/plain": "   Postal Code           Borough                                Neighbourhood\n2          M3A        North York                                    Parkwoods\n3          M4A        North York                             Victoria Village\n4          M5A  Downtown Toronto                    Regent Park, Harbourfront\n5          M6A        North York             Lawrence Manor, Lawrence Heights\n6          M7A  Downtown Toronto  Queen's Park, Ontario Provincial Government\n8          M9A         Etobicoke      Islington Avenue, Humber Valley Village\n9          M1B       Scarborough                               Malvern, Rouge\n11         M3B        North York                                    Don Mills"
                    },
                    "execution_count": 6,
                    "metadata": {},
                    "output_type": "execute_result"
                }
            ],
            "source": "df_new.Neighbourhood.replace('Not assigned',df_new.Borough,inplace=True)\ndf_new.head(8)"
        },
        {
            "cell_type": "markdown",
            "metadata": {},
            "source": "<b> neighbourhood with the samepostcode should be grouped </b>"
        },
        {
            "cell_type": "code",
            "execution_count": 7,
            "metadata": {},
            "outputs": [
                {
                    "data": {
                        "text/html": "<div>\n<style scoped>\n    .dataframe tbody tr th:only-of-type {\n        vertical-align: middle;\n    }\n\n    .dataframe tbody tr th {\n        vertical-align: top;\n    }\n\n    .dataframe thead th {\n        text-align: right;\n    }\n</style>\n<table border=\"1\" class=\"dataframe\">\n  <thead>\n    <tr style=\"text-align: right;\">\n      <th></th>\n      <th>PostalCode</th>\n      <th>Borough</th>\n      <th>Neighborhood</th>\n    </tr>\n  </thead>\n  <tbody>\n    <tr>\n      <th>0</th>\n      <td>M1B</td>\n      <td>Scarborough</td>\n      <td>Malvern, Rouge</td>\n    </tr>\n    <tr>\n      <th>1</th>\n      <td>M1C</td>\n      <td>Scarborough</td>\n      <td>Rouge Hill, Port Union, Highland Creek</td>\n    </tr>\n    <tr>\n      <th>2</th>\n      <td>M1E</td>\n      <td>Scarborough</td>\n      <td>Guildwood, Morningside, West Hill</td>\n    </tr>\n    <tr>\n      <th>3</th>\n      <td>M1G</td>\n      <td>Scarborough</td>\n      <td>Woburn</td>\n    </tr>\n    <tr>\n      <th>4</th>\n      <td>M1H</td>\n      <td>Scarborough</td>\n      <td>Cedarbrae</td>\n    </tr>\n  </tbody>\n</table>\n</div>",
                        "text/plain": "  PostalCode      Borough                            Neighborhood\n0        M1B  Scarborough                          Malvern, Rouge\n1        M1C  Scarborough  Rouge Hill, Port Union, Highland Creek\n2        M1E  Scarborough       Guildwood, Morningside, West Hill\n3        M1G  Scarborough                                  Woburn\n4        M1H  Scarborough                               Cedarbrae"
                    },
                    "execution_count": 7,
                    "metadata": {},
                    "output_type": "execute_result"
                }
            ],
            "source": "df_toronto = df_new.groupby(['Postal Code', 'Borough'])['Neighbourhood'].apply(lambda x: ', '.join(x))\ndf_toronto = df_toronto.reset_index()\ndf_toronto.rename(columns = {'Postal Code':'PostalCode'}, inplace = True)\ndf_toronto.rename(columns = {'Neighbourhood':'Neighborhood'}, inplace = True)\ndf_toronto.head()"
        },
        {
            "cell_type": "markdown",
            "metadata": {},
            "source": "<b>Print the number of rows of your dataframe</b>"
        },
        {
            "cell_type": "code",
            "execution_count": 8,
            "metadata": {},
            "outputs": [
                {
                    "data": {
                        "text/plain": "(103, 3)"
                    },
                    "execution_count": 8,
                    "metadata": {},
                    "output_type": "execute_result"
                }
            ],
            "source": "df_toronto.shape"
        },
        {
            "cell_type": "markdown",
            "metadata": {},
            "source": "<b>\n\nGet the latitude and the longitude coordinates of each neighborhood\n    \nUse the csv file, because of some problems with geocoder\n</b>"
        },
        {
            "cell_type": "code",
            "execution_count": 9,
            "metadata": {},
            "outputs": [
                {
                    "data": {
                        "text/html": "<div>\n<style scoped>\n    .dataframe tbody tr th:only-of-type {\n        vertical-align: middle;\n    }\n\n    .dataframe tbody tr th {\n        vertical-align: top;\n    }\n\n    .dataframe thead th {\n        text-align: right;\n    }\n</style>\n<table border=\"1\" class=\"dataframe\">\n  <thead>\n    <tr style=\"text-align: right;\">\n      <th></th>\n      <th>Postal Code</th>\n      <th>Latitude</th>\n      <th>Longitude</th>\n    </tr>\n  </thead>\n  <tbody>\n    <tr>\n      <th>0</th>\n      <td>M1B</td>\n      <td>43.806686</td>\n      <td>-79.194353</td>\n    </tr>\n    <tr>\n      <th>1</th>\n      <td>M1C</td>\n      <td>43.784535</td>\n      <td>-79.160497</td>\n    </tr>\n    <tr>\n      <th>2</th>\n      <td>M1E</td>\n      <td>43.763573</td>\n      <td>-79.188711</td>\n    </tr>\n    <tr>\n      <th>3</th>\n      <td>M1G</td>\n      <td>43.770992</td>\n      <td>-79.216917</td>\n    </tr>\n    <tr>\n      <th>4</th>\n      <td>M1H</td>\n      <td>43.773136</td>\n      <td>-79.239476</td>\n    </tr>\n  </tbody>\n</table>\n</div>",
                        "text/plain": "  Postal Code   Latitude  Longitude\n0         M1B  43.806686 -79.194353\n1         M1C  43.784535 -79.160497\n2         M1E  43.763573 -79.188711\n3         M1G  43.770992 -79.216917\n4         M1H  43.773136 -79.239476"
                    },
                    "execution_count": 9,
                    "metadata": {},
                    "output_type": "execute_result"
                }
            ],
            "source": "url = 'http://cocl.us/Geospatial_data'\ndf_geo=pd.read_csv(url)\ndf_geo.head()"
        },
        {
            "cell_type": "markdown",
            "metadata": {},
            "source": "<b>Check the shape</b>"
        },
        {
            "cell_type": "code",
            "execution_count": 10,
            "metadata": {},
            "outputs": [
                {
                    "data": {
                        "text/plain": "(103, 3)"
                    },
                    "execution_count": 10,
                    "metadata": {},
                    "output_type": "execute_result"
                }
            ],
            "source": "df_geo.shape"
        },
        {
            "cell_type": "markdown",
            "metadata": {},
            "source": "<b>Joining new columns in the data to produce the table below</b>"
        },
        {
            "cell_type": "code",
            "execution_count": 11,
            "metadata": {},
            "outputs": [
                {
                    "data": {
                        "text/plain": "<bound method NDFrame.head of     PostalCode           Borough  \\\n0          M1B       Scarborough   \n1          M1C       Scarborough   \n2          M1E       Scarborough   \n3          M1G       Scarborough   \n4          M1H       Scarborough   \n5          M1J       Scarborough   \n6          M1K       Scarborough   \n7          M1L       Scarborough   \n8          M1M       Scarborough   \n9          M1N       Scarborough   \n10         M1P       Scarborough   \n11         M1R       Scarborough   \n12         M1S       Scarborough   \n13         M1T       Scarborough   \n14         M1V       Scarborough   \n15         M1W       Scarborough   \n16         M1X       Scarborough   \n17         M2H        North York   \n18         M2J        North York   \n19         M2K        North York   \n20         M2L        North York   \n21         M2M        North York   \n22         M2N        North York   \n23         M2P        North York   \n24         M2R        North York   \n25         M3A        North York   \n26         M3B        North York   \n27         M3C        North York   \n28         M3H        North York   \n29         M3J        North York   \n..         ...               ...   \n73         M6C              York   \n74         M6E              York   \n75         M6G  Downtown Toronto   \n76         M6H      West Toronto   \n77         M6J      West Toronto   \n78         M6K      West Toronto   \n79         M6L        North York   \n80         M6M              York   \n81         M6N              York   \n82         M6P      West Toronto   \n83         M6R      West Toronto   \n84         M6S      West Toronto   \n85         M7A  Downtown Toronto   \n86         M7R       Mississauga   \n87         M7Y      East Toronto   \n88         M8V         Etobicoke   \n89         M8W         Etobicoke   \n90         M8X         Etobicoke   \n91         M8Y         Etobicoke   \n92         M8Z         Etobicoke   \n93         M9A         Etobicoke   \n94         M9B         Etobicoke   \n95         M9C         Etobicoke   \n96         M9L        North York   \n97         M9M        North York   \n98         M9N              York   \n99         M9P         Etobicoke   \n100        M9R         Etobicoke   \n101        M9V         Etobicoke   \n102        M9W         Etobicoke   \n\n                                          Neighborhood   Latitude  Longitude  \n0                                       Malvern, Rouge  43.806686 -79.194353  \n1               Rouge Hill, Port Union, Highland Creek  43.784535 -79.160497  \n2                    Guildwood, Morningside, West Hill  43.763573 -79.188711  \n3                                               Woburn  43.770992 -79.216917  \n4                                            Cedarbrae  43.773136 -79.239476  \n5                                  Scarborough Village  43.744734 -79.239476  \n6          Kennedy Park, Ionview, East Birchmount Park  43.727929 -79.262029  \n7                      Golden Mile, Clairlea, Oakridge  43.711112 -79.284577  \n8      Cliffside, Cliffcrest, Scarborough Village West  43.716316 -79.239476  \n9                          Birch Cliff, Cliffside West  43.692657 -79.264848  \n10   Dorset Park, Wexford Heights, Scarborough Town...  43.757410 -79.273304  \n11                                   Wexford, Maryvale  43.750072 -79.295849  \n12                                           Agincourt  43.794200 -79.262029  \n13             Clarks Corners, Tam O'Shanter, Sullivan  43.781638 -79.304302  \n14   Milliken, Agincourt North, Steeles East, L'Amo...  43.815252 -79.284577  \n15                       Steeles West, L'Amoreaux West  43.799525 -79.318389  \n16                                         Upper Rouge  43.836125 -79.205636  \n17                                   Hillcrest Village  43.803762 -79.363452  \n18                        Fairview, Henry Farm, Oriole  43.778517 -79.346556  \n19                                     Bayview Village  43.786947 -79.385975  \n20                            York Mills, Silver Hills  43.757490 -79.374714  \n21                             Willowdale, Newtonbrook  43.789053 -79.408493  \n22                         Willowdale, Willowdale East  43.770120 -79.408493  \n23                                     York Mills West  43.752758 -79.400049  \n24                         Willowdale, Willowdale West  43.782736 -79.442259  \n25                                           Parkwoods  43.753259 -79.329656  \n26                                           Don Mills  43.745906 -79.352188  \n27                                           Don Mills  43.725900 -79.340923  \n28     Bathurst Manor, Wilson Heights, Downsview North  43.754328 -79.442259  \n29                     Northwood Park, York University  43.767980 -79.487262  \n..                                                 ...        ...        ...  \n73                                  Humewood-Cedarvale  43.693781 -79.428191  \n74                                 Caledonia-Fairbanks  43.689026 -79.453512  \n75                                            Christie  43.669542 -79.422564  \n76                        Dufferin, Dovercourt Village  43.669005 -79.442259  \n77                            Little Portugal, Trinity  43.647927 -79.419750  \n78        Brockton, Parkdale Village, Exhibition Place  43.636847 -79.428191  \n79            North Park, Maple Leaf Park, Upwood Park  43.713756 -79.490074  \n80    Del Ray, Mount Dennis, Keelsdale and Silverthorn  43.691116 -79.476013  \n81                       Runnymede, The Junction North  43.673185 -79.487262  \n82                       High Park, The Junction South  43.661608 -79.464763  \n83                              Parkdale, Roncesvalles  43.648960 -79.456325  \n84                                  Runnymede, Swansea  43.651571 -79.484450  \n85         Queen's Park, Ontario Provincial Government  43.662301 -79.389494  \n86               Canada Post Gateway Processing Centre  43.636966 -79.615819  \n87   Business reply mail Processing Centre, South C...  43.662744 -79.321558  \n88        New Toronto, Mimico South, Humber Bay Shores  43.605647 -79.501321  \n89                              Alderwood, Long Branch  43.602414 -79.543484  \n90       The Kingsway, Montgomery Road, Old Mill North  43.653654 -79.506944  \n91   Old Mill South, King's Mill Park, Sunnylea, Hu...  43.636258 -79.498509  \n92   Mimico NW, The Queensway West, South of Bloor,...  43.628841 -79.520999  \n93             Islington Avenue, Humber Valley Village  43.667856 -79.532242  \n94   West Deane Park, Princess Gardens, Martin Grov...  43.650943 -79.554724  \n95   Eringate, Bloordale Gardens, Old Burnhamthorpe...  43.643515 -79.577201  \n96                                       Humber Summit  43.756303 -79.565963  \n97                                    Humberlea, Emery  43.724766 -79.532242  \n98                                              Weston  43.706876 -79.518188  \n99                                           Westmount  43.696319 -79.532242  \n100  Kingsview Village, St. Phillips, Martin Grove ...  43.688905 -79.554724  \n101  South Steeles, Silverstone, Humbergate, Jamest...  43.739416 -79.588437  \n102                Northwest, West Humber - Clairville  43.706748 -79.594054  \n\n[103 rows x 5 columns]>"
                    },
                    "execution_count": 11,
                    "metadata": {},
                    "output_type": "execute_result"
                }
            ],
            "source": "df_toronto = df_toronto.join(df_geo.set_index('Postal Code'), on='PostalCode')\ndf_toronto.head"
        },
        {
            "cell_type": "markdown",
            "metadata": {},
            "source": "<b>Cluster the segment and cluster the neighborhoods of Toronto with the foursquere API</b>"
        },
        {
            "cell_type": "code",
            "execution_count": 12,
            "metadata": {},
            "outputs": [
                {
                    "name": "stdout",
                    "output_type": "stream",
                    "text": "Solving environment: done\n\n## Package Plan ##\n\n  environment location: /opt/conda/envs/Python36\n\n  added / updated specs: \n    - geocoder\n\n\nThe following packages will be downloaded:\n\n    package                    |            build\n    ---------------------------|-----------------\n    certifi-2020.6.20          |   py36h9f0ad1d_0         151 KB  conda-forge\n    ca-certificates-2020.6.20  |       hecda079_0         145 KB  conda-forge\n    ratelim-0.1.6              |             py_2           6 KB  conda-forge\n    openssl-1.1.1g             |       h516909a_1         2.1 MB  conda-forge\n    geocoder-1.38.1            |             py_1          53 KB  conda-forge\n    python_abi-3.6             |          1_cp36m           4 KB  conda-forge\n    ------------------------------------------------------------\n                                           Total:         2.5 MB\n\nThe following NEW packages will be INSTALLED:\n\n    geocoder:        1.38.1-py_1       conda-forge\n    python_abi:      3.6-1_cp36m       conda-forge\n    ratelim:         0.1.6-py_2        conda-forge\n\nThe following packages will be UPDATED:\n\n    certifi:         2020.6.20-py36_0              --> 2020.6.20-py36h9f0ad1d_0 conda-forge\n    openssl:         1.1.1g-h7b6447c_0             --> 1.1.1g-h516909a_1        conda-forge\n\nThe following packages will be DOWNGRADED:\n\n    ca-certificates: 2020.6.24-0                   --> 2020.6.20-hecda079_0     conda-forge\n\n\nDownloading and Extracting Packages\ncertifi-2020.6.20    | 151 KB    | ##################################### | 100% \nca-certificates-2020 | 145 KB    | ##################################### | 100% \nratelim-0.1.6        | 6 KB      | ##################################### | 100% \nopenssl-1.1.1g       | 2.1 MB    | ##################################### | 100% \ngeocoder-1.38.1      | 53 KB     | ##################################### | 100% \npython_abi-3.6       | 4 KB      | ##################################### | 100% \nPreparing transaction: done\nVerifying transaction: done\nExecuting transaction: done\nThe geograpical coordinate of Toronto are 43.6534817, -79.3839347.\n"
                }
            ],
            "source": "!conda install -c conda-forge geocoder --yes\nimport geocoder\nfrom geopy.geocoders import Nominatim \n\naddress = 'Toronto, Ontario'\n\ngeolocator = Nominatim(user_agent=\"toronto_explorer\")\nlocation = geolocator.geocode(address)\nlatitude = location.latitude\nlongitude = location.longitude\nprint('The geograpical coordinate of Toronto are {}, {}.'.format(latitude, longitude))"
        },
        {
            "cell_type": "markdown",
            "metadata": {},
            "source": "<b>Output or Print the map with all the boroughs</b>"
        },
        {
            "cell_type": "code",
            "execution_count": null,
            "metadata": {},
            "outputs": [],
            "source": "import folium\n\n# create map of Toronto using latitude and longitude values\nmap_Toronto = folium.Map(location=[latitude, longitude], zoom_start=10)\n\n# add markers to map\nfor lat, lng, borough, neighborhood in zip(df_toronto['Latitude'], df_toronto['Longitude'], df_toronto['Borough'], df_toronto['Neighborhood']):\n    label = '{}, {}'.format(neighborhood, borough)\n    label = folium.Popup(label, parse_html=True)\n    folium.CircleMarker(\n        [lat, lng],\n        radius=5,\n        popup=label,\n        color='blue',\n        fill=True,\n        fill_color='#3186cc',\n        fill_opacity=0.7,\n        ).add_to(map_Toronto)  \n    \nmap_Toronto"
        },
        {
            "cell_type": "markdown",
            "metadata": {},
            "source": "<b>print secret and version</b>\n"
        },
        {
            "cell_type": "code",
            "execution_count": 16,
            "metadata": {},
            "outputs": [
                {
                    "name": "stdout",
                    "output_type": "stream",
                    "text": "Your credentails:\nCLIENT_ID: HL3CBGYWYOVNGY1V2ZFV2ZBYXYWVGM5NCDVQXWCD0KNGVABT\nCLIENT_SECRET:XM4OKH34C01SM4G1PPVMY4FHII3CZZPEBP1TVLJTGDVXNGUR\n"
                }
            ],
            "source": "CLIENT_ID = 'HL3CBGYWYOVNGY1V2ZFV2ZBYXYWVGM5NCDVQXWCD0KNGVABT' # your Foursquare ID\nCLIENT_SECRET = 'XM4OKH34C01SM4G1PPVMY4FHII3CZZPEBP1TVLJTGDVXNGUR' # your Foursquare Secret\nVERSION = '20180604' # Foursquare API version\n\nprint('Your credentails:')\nprint('CLIENT_ID: ' + CLIENT_ID)\nprint('CLIENT_SECRET:' + CLIENT_SECRET)"
        },
        {
            "cell_type": "markdown",
            "metadata": {},
            "source": "<b>Exploring the data, and get the venues in 500 meters range from our first entry</b>"
        },
        {
            "cell_type": "code",
            "execution_count": 17,
            "metadata": {},
            "outputs": [],
            "source": "#df_toronto.loc[0, 'Neighbourhood']"
        },
        {
            "cell_type": "code",
            "execution_count": 18,
            "metadata": {},
            "outputs": [
                {
                    "name": "stdout",
                    "output_type": "stream",
                    "text": "Latitude and longitude values of Malvern, Rouge are 43.806686299999996, -79.19435340000001.\n"
                }
            ],
            "source": "neighborhood_latitude = df_toronto.loc[0, 'Latitude'] # neighborhood latitude value\nneighborhood_longitude = df_toronto.loc[0, 'Longitude'] # neighborhood longitude value\n\nneighborhood_name = df_toronto.loc[0, 'Neighborhood'] # neighborhood name\n\nprint('Latitude and longitude values of {} are {}, {}.'.format(neighborhood_name, \n                                                               neighborhood_latitude, \n                                                               neighborhood_longitude))"
        },
        {
            "cell_type": "markdown",
            "metadata": {},
            "source": "<b>Create the GET request URL</b>"
        },
        {
            "cell_type": "code",
            "execution_count": 19,
            "metadata": {},
            "outputs": [
                {
                    "data": {
                        "text/plain": "'https://api.foursquare.com/v2/venues/explore?&client_id=HL3CBGYWYOVNGY1V2ZFV2ZBYXYWVGM5NCDVQXWCD0KNGVABT&client_secret=XM4OKH34C01SM4G1PPVMY4FHII3CZZPEBP1TVLJTGDVXNGUR&v=20180604&ll=43.806686299999996,-79.19435340000001&radius=500&limit=100'"
                    },
                    "execution_count": 19,
                    "metadata": {},
                    "output_type": "execute_result"
                }
            ],
            "source": "LIMIT = 100\nradius = 500\nurl = 'https://api.foursquare.com/v2/venues/explore?&client_id={}&client_secret={}&v={}&ll={},{}&radius={}&limit={}'.format(\n    CLIENT_ID, \n    CLIENT_SECRET, \n    VERSION, \n    neighborhood_latitude, \n    neighborhood_longitude, \n    radius, \n    LIMIT)\nurl"
        },
        {
            "cell_type": "code",
            "execution_count": 20,
            "metadata": {},
            "outputs": [
                {
                    "data": {
                        "text/plain": "{'meta': {'code': 200, 'requestId': '5f505d429542ef7677d259e4'},\n 'response': {'warning': {'text': \"There aren't a lot of results near you. Try something more general, reset your filters, or expand the search area.\"},\n  'headerLocation': 'Malvern',\n  'headerFullLocation': 'Malvern, Toronto',\n  'headerLocationGranularity': 'neighborhood',\n  'totalResults': 1,\n  'suggestedBounds': {'ne': {'lat': 43.8111863045, 'lng': -79.18812958073042},\n   'sw': {'lat': 43.80218629549999, 'lng': -79.2005772192696}},\n  'groups': [{'type': 'Recommended Places',\n    'name': 'recommended',\n    'items': [{'reasons': {'count': 0,\n       'items': [{'summary': 'This spot is popular',\n         'type': 'general',\n         'reasonName': 'globalInteractionReason'}]},\n      'venue': {'id': '4bb6b9446edc76b0d771311c',\n       'name': 'Wendy\u2019s',\n       'location': {'crossStreet': 'Morningside & Sheppard',\n        'lat': 43.80744841934756,\n        'lng': -79.19905558052072,\n        'labeledLatLngs': [{'label': 'display',\n          'lat': 43.80744841934756,\n          'lng': -79.19905558052072}],\n        'distance': 387,\n        'cc': 'CA',\n        'city': 'Toronto',\n        'state': 'ON',\n        'country': 'Canada',\n        'formattedAddress': ['Toronto ON', 'Canada']},\n       'categories': [{'id': '4bf58dd8d48988d16e941735',\n         'name': 'Fast Food Restaurant',\n         'pluralName': 'Fast Food Restaurants',\n         'shortName': 'Fast Food',\n         'icon': {'prefix': 'https://ss3.4sqi.net/img/categories_v2/food/fastfood_',\n          'suffix': '.png'},\n         'primary': True}],\n       'photos': {'count': 0, 'groups': []}},\n      'referralId': 'e-0-4bb6b9446edc76b0d771311c-0'}]}]}}"
                    },
                    "execution_count": 20,
                    "metadata": {},
                    "output_type": "execute_result"
                }
            ],
            "source": "results = requests.get(url).json()\nresults"
        },
        {
            "cell_type": "code",
            "execution_count": 21,
            "metadata": {},
            "outputs": [],
            "source": "# function that extracts the category of the venue\ndef get_category_type(row):\n    try:\n        categories_list = row['categories']\n    except:\n        categories_list = row['venue.categories']\n        \n    if len(categories_list) == 0:\n        return None\n    else:\n        return categories_list[0]['name']"
        },
        {
            "cell_type": "markdown",
            "metadata": {},
            "source": "<b>We can see that we had only 1 response for our first entry</b>"
        },
        {
            "cell_type": "code",
            "execution_count": 22,
            "metadata": {},
            "outputs": [
                {
                    "data": {
                        "text/html": "<div>\n<style scoped>\n    .dataframe tbody tr th:only-of-type {\n        vertical-align: middle;\n    }\n\n    .dataframe tbody tr th {\n        vertical-align: top;\n    }\n\n    .dataframe thead th {\n        text-align: right;\n    }\n</style>\n<table border=\"1\" class=\"dataframe\">\n  <thead>\n    <tr style=\"text-align: right;\">\n      <th></th>\n      <th>name</th>\n      <th>categories</th>\n      <th>lat</th>\n      <th>lng</th>\n    </tr>\n  </thead>\n  <tbody>\n    <tr>\n      <th>0</th>\n      <td>Wendy\u2019s</td>\n      <td>Fast Food Restaurant</td>\n      <td>43.807448</td>\n      <td>-79.199056</td>\n    </tr>\n  </tbody>\n</table>\n</div>",
                        "text/plain": "      name            categories        lat        lng\n0  Wendy\u2019s  Fast Food Restaurant  43.807448 -79.199056"
                    },
                    "execution_count": 22,
                    "metadata": {},
                    "output_type": "execute_result"
                }
            ],
            "source": "import json\nfrom pandas.io.json import json_normalize\n\nvenues = results['response']['groups'][0]['items']\n    \nnearby_venues = json_normalize(venues) # flatten JSON\n\n# filter columns\nfiltered_columns = ['venue.name', 'venue.categories', 'venue.location.lat', 'venue.location.lng']\nnearby_venues =nearby_venues.loc[:, filtered_columns]\n\n# filter the category for each row\nnearby_venues['venue.categories'] = nearby_venues.apply(get_category_type, axis=1)\n\n# clean columns\nnearby_venues.columns = [col.split(\".\")[-1] for col in nearby_venues.columns]\n\nnearby_venues.head()"
        },
        {
            "cell_type": "code",
            "execution_count": 23,
            "metadata": {},
            "outputs": [],
            "source": "def getNearbyVenues(names, latitudes, longitudes, radius=500):\n    \n    venues_list=[]\n    for name, lat, lng in zip(names, latitudes, longitudes):\n        print(name)\n            \n        # create the API request URL\n        url = 'https://api.foursquare.com/v2/venues/explore?&client_id={}&client_secret={}&v={}&ll={},{}&radius={}&limit={}'.format(\n            CLIENT_ID, \n            CLIENT_SECRET, \n            VERSION, \n            lat, \n            lng, \n            radius, \n            LIMIT)\n            \n        # make the GET request\n        results = requests.get(url).json()[\"response\"]['groups'][0]['items']\n        \n        # return only relevant information for each nearby venue\n        venues_list.append([(\n            name, \n            lat, \n            lng, \n            v['venue']['name'], \n            v['venue']['location']['lat'], \n            v['venue']['location']['lng'],  \n            v['venue']['categories'][0]['name']) for v in results])\n\n    nearby_venues = pd.DataFrame([item for venue_list in venues_list for item in venue_list])\n    nearby_venues.columns = ['Neighbourhood', \n                  'Neighborhood Latitude', \n                  'Neighborhood Longitude', \n                  'Venue', \n                  'Venue Latitude', \n                  'Venue Longitude', \n                  'Venue Category']\n    \n    return(nearby_venues)"
        },
        {
            "cell_type": "code",
            "execution_count": 24,
            "metadata": {},
            "outputs": [
                {
                    "name": "stdout",
                    "output_type": "stream",
                    "text": "Malvern, Rouge\nRouge Hill, Port Union, Highland Creek\nGuildwood, Morningside, West Hill\nWoburn\nCedarbrae\nScarborough Village\nKennedy Park, Ionview, East Birchmount Park\nGolden Mile, Clairlea, Oakridge\nCliffside, Cliffcrest, Scarborough Village West\nBirch Cliff, Cliffside West\nDorset Park, Wexford Heights, Scarborough Town Centre\nWexford, Maryvale\nAgincourt\nClarks Corners, Tam O'Shanter, Sullivan\nMilliken, Agincourt North, Steeles East, L'Amoreaux East\nSteeles West, L'Amoreaux West\nUpper Rouge\nHillcrest Village\nFairview, Henry Farm, Oriole\nBayview Village\nYork Mills, Silver Hills\nWillowdale, Newtonbrook\nWillowdale, Willowdale East\nYork Mills West\nWillowdale, Willowdale West\nParkwoods\nDon Mills\nDon Mills\nBathurst Manor, Wilson Heights, Downsview North\nNorthwood Park, York University\nDownsview\nDownsview\nDownsview\nDownsview\nVictoria Village\nParkview Hill, Woodbine Gardens\nWoodbine Heights\nThe Beaches\nLeaside\nThorncliffe Park\nEast Toronto, Broadview North (Old East York)\nThe Danforth West, Riverdale\nIndia Bazaar, The Beaches West\nStudio District\nLawrence Park\nDavisville North\nNorth Toronto West, Lawrence Park\nDavisville\nMoore Park, Summerhill East\nSummerhill West, Rathnelly, South Hill, Forest Hill SE, Deer Park\nRosedale\nSt. James Town, Cabbagetown\nChurch and Wellesley\nRegent Park, Harbourfront\nGarden District, Ryerson\nSt. James Town\nBerczy Park\nCentral Bay Street\nRichmond, Adelaide, King\nHarbourfront East, Union Station, Toronto Islands\nToronto Dominion Centre, Design Exchange\nCommerce Court, Victoria Hotel\nBedford Park, Lawrence Manor East\nRoselawn\nForest Hill North & West, Forest Hill Road Park\nThe Annex, North Midtown, Yorkville\nUniversity of Toronto, Harbord\nKensington Market, Chinatown, Grange Park\nCN Tower, King and Spadina, Railway Lands, Harbourfront West, Bathurst Quay, South Niagara, Island airport\nStn A PO Boxes\nFirst Canadian Place, Underground city\nLawrence Manor, Lawrence Heights\nGlencairn\nHumewood-Cedarvale\nCaledonia-Fairbanks\nChristie\nDufferin, Dovercourt Village\nLittle Portugal, Trinity\nBrockton, Parkdale Village, Exhibition Place\nNorth Park, Maple Leaf Park, Upwood Park\nDel Ray, Mount Dennis, Keelsdale and Silverthorn\nRunnymede, The Junction North\nHigh Park, The Junction South\nParkdale, Roncesvalles\nRunnymede, Swansea\nQueen's Park, Ontario Provincial Government\nCanada Post Gateway Processing Centre\nBusiness reply mail Processing Centre, South Central Letter Processing Plant Toronto\nNew Toronto, Mimico South, Humber Bay Shores\nAlderwood, Long Branch\nThe Kingsway, Montgomery Road, Old Mill North\nOld Mill South, King's Mill Park, Sunnylea, Humber Bay, Mimico NE, The Queensway East, Royal York South East, Kingsway Park South East\nMimico NW, The Queensway West, South of Bloor, Kingsway Park South West, Royal York South West\nIslington Avenue, Humber Valley Village\nWest Deane Park, Princess Gardens, Martin Grove, Islington, Cloverdale\nEringate, Bloordale Gardens, Old Burnhamthorpe, Markland Wood\nHumber Summit\nHumberlea, Emery\nWeston\nWestmount\nKingsview Village, St. Phillips, Martin Grove Gardens, Richview Gardens\nSouth Steeles, Silverstone, Humbergate, Jamestown, Mount Olive, Beaumond Heights, Thistletown, Albion Gardens\nNorthwest, West Humber - Clairville\n"
                }
            ],
            "source": "toronto_venues = getNearbyVenues(names=df_toronto['Neighborhood'],\n                                   latitudes=df_toronto['Latitude'],\n                                   longitudes=df_toronto['Longitude']\n                                  )"
        },
        {
            "cell_type": "markdown",
            "metadata": {},
            "source": "<b>check the size of the dataframe</b>"
        },
        {
            "cell_type": "code",
            "execution_count": 25,
            "metadata": {},
            "outputs": [
                {
                    "name": "stdout",
                    "output_type": "stream",
                    "text": "(2143, 7)\n"
                },
                {
                    "data": {
                        "text/html": "<div>\n<style scoped>\n    .dataframe tbody tr th:only-of-type {\n        vertical-align: middle;\n    }\n\n    .dataframe tbody tr th {\n        vertical-align: top;\n    }\n\n    .dataframe thead th {\n        text-align: right;\n    }\n</style>\n<table border=\"1\" class=\"dataframe\">\n  <thead>\n    <tr style=\"text-align: right;\">\n      <th></th>\n      <th>Neighbourhood</th>\n      <th>Neighborhood Latitude</th>\n      <th>Neighborhood Longitude</th>\n      <th>Venue</th>\n      <th>Venue Latitude</th>\n      <th>Venue Longitude</th>\n      <th>Venue Category</th>\n    </tr>\n  </thead>\n  <tbody>\n    <tr>\n      <th>0</th>\n      <td>Malvern, Rouge</td>\n      <td>43.806686</td>\n      <td>-79.194353</td>\n      <td>Wendy\u2019s</td>\n      <td>43.807448</td>\n      <td>-79.199056</td>\n      <td>Fast Food Restaurant</td>\n    </tr>\n    <tr>\n      <th>1</th>\n      <td>Rouge Hill, Port Union, Highland Creek</td>\n      <td>43.784535</td>\n      <td>-79.160497</td>\n      <td>Great Shine Window Cleaning</td>\n      <td>43.783145</td>\n      <td>-79.157431</td>\n      <td>Home Service</td>\n    </tr>\n    <tr>\n      <th>2</th>\n      <td>Rouge Hill, Port Union, Highland Creek</td>\n      <td>43.784535</td>\n      <td>-79.160497</td>\n      <td>Royal Canadian Legion</td>\n      <td>43.782533</td>\n      <td>-79.163085</td>\n      <td>Bar</td>\n    </tr>\n    <tr>\n      <th>3</th>\n      <td>Rouge Hill, Port Union, Highland Creek</td>\n      <td>43.784535</td>\n      <td>-79.160497</td>\n      <td>SEBS Engineering Inc. (Sustainable Energy and ...</td>\n      <td>43.782371</td>\n      <td>-79.156820</td>\n      <td>Construction &amp; Landscaping</td>\n    </tr>\n    <tr>\n      <th>4</th>\n      <td>Guildwood, Morningside, West Hill</td>\n      <td>43.763573</td>\n      <td>-79.188711</td>\n      <td>RBC Royal Bank</td>\n      <td>43.766790</td>\n      <td>-79.191151</td>\n      <td>Bank</td>\n    </tr>\n  </tbody>\n</table>\n</div>",
                        "text/plain": "                            Neighbourhood  Neighborhood Latitude  \\\n0                          Malvern, Rouge              43.806686   \n1  Rouge Hill, Port Union, Highland Creek              43.784535   \n2  Rouge Hill, Port Union, Highland Creek              43.784535   \n3  Rouge Hill, Port Union, Highland Creek              43.784535   \n4       Guildwood, Morningside, West Hill              43.763573   \n\n   Neighborhood Longitude                                              Venue  \\\n0              -79.194353                                            Wendy\u2019s   \n1              -79.160497                        Great Shine Window Cleaning   \n2              -79.160497                              Royal Canadian Legion   \n3              -79.160497  SEBS Engineering Inc. (Sustainable Energy and ...   \n4              -79.188711                                     RBC Royal Bank   \n\n   Venue Latitude  Venue Longitude              Venue Category  \n0       43.807448       -79.199056        Fast Food Restaurant  \n1       43.783145       -79.157431                Home Service  \n2       43.782533       -79.163085                         Bar  \n3       43.782371       -79.156820  Construction & Landscaping  \n4       43.766790       -79.191151                        Bank  "
                    },
                    "execution_count": 25,
                    "metadata": {},
                    "output_type": "execute_result"
                }
            ],
            "source": "print(toronto_venues.shape)\ntoronto_venues.head()"
        },
        {
            "cell_type": "code",
            "execution_count": 26,
            "metadata": {},
            "outputs": [
                {
                    "data": {
                        "text/html": "<div>\n<style scoped>\n    .dataframe tbody tr th:only-of-type {\n        vertical-align: middle;\n    }\n\n    .dataframe tbody tr th {\n        vertical-align: top;\n    }\n\n    .dataframe thead th {\n        text-align: right;\n    }\n</style>\n<table border=\"1\" class=\"dataframe\">\n  <thead>\n    <tr style=\"text-align: right;\">\n      <th></th>\n      <th>Neighborhood Latitude</th>\n      <th>Neighborhood Longitude</th>\n      <th>Venue</th>\n      <th>Venue Latitude</th>\n      <th>Venue Longitude</th>\n      <th>Venue Category</th>\n    </tr>\n    <tr>\n      <th>Neighbourhood</th>\n      <th></th>\n      <th></th>\n      <th></th>\n      <th></th>\n      <th></th>\n      <th></th>\n    </tr>\n  </thead>\n  <tbody>\n    <tr>\n      <th>Agincourt</th>\n      <td>4</td>\n      <td>4</td>\n      <td>4</td>\n      <td>4</td>\n      <td>4</td>\n      <td>4</td>\n    </tr>\n    <tr>\n      <th>Alderwood, Long Branch</th>\n      <td>8</td>\n      <td>8</td>\n      <td>8</td>\n      <td>8</td>\n      <td>8</td>\n      <td>8</td>\n    </tr>\n    <tr>\n      <th>Bathurst Manor, Wilson Heights, Downsview North</th>\n      <td>21</td>\n      <td>21</td>\n      <td>21</td>\n      <td>21</td>\n      <td>21</td>\n      <td>21</td>\n    </tr>\n    <tr>\n      <th>Bayview Village</th>\n      <td>4</td>\n      <td>4</td>\n      <td>4</td>\n      <td>4</td>\n      <td>4</td>\n      <td>4</td>\n    </tr>\n    <tr>\n      <th>Bedford Park, Lawrence Manor East</th>\n      <td>24</td>\n      <td>24</td>\n      <td>24</td>\n      <td>24</td>\n      <td>24</td>\n      <td>24</td>\n    </tr>\n    <tr>\n      <th>Berczy Park</th>\n      <td>57</td>\n      <td>57</td>\n      <td>57</td>\n      <td>57</td>\n      <td>57</td>\n      <td>57</td>\n    </tr>\n    <tr>\n      <th>Birch Cliff, Cliffside West</th>\n      <td>5</td>\n      <td>5</td>\n      <td>5</td>\n      <td>5</td>\n      <td>5</td>\n      <td>5</td>\n    </tr>\n    <tr>\n      <th>Brockton, Parkdale Village, Exhibition Place</th>\n      <td>25</td>\n      <td>25</td>\n      <td>25</td>\n      <td>25</td>\n      <td>25</td>\n      <td>25</td>\n    </tr>\n    <tr>\n      <th>Business reply mail Processing Centre, South Central Letter Processing Plant Toronto</th>\n      <td>14</td>\n      <td>14</td>\n      <td>14</td>\n      <td>14</td>\n      <td>14</td>\n      <td>14</td>\n    </tr>\n    <tr>\n      <th>CN Tower, King and Spadina, Railway Lands, Harbourfront West, Bathurst Quay, South Niagara, Island airport</th>\n      <td>17</td>\n      <td>17</td>\n      <td>17</td>\n      <td>17</td>\n      <td>17</td>\n      <td>17</td>\n    </tr>\n    <tr>\n      <th>Caledonia-Fairbanks</th>\n      <td>4</td>\n      <td>4</td>\n      <td>4</td>\n      <td>4</td>\n      <td>4</td>\n      <td>4</td>\n    </tr>\n    <tr>\n      <th>Canada Post Gateway Processing Centre</th>\n      <td>12</td>\n      <td>12</td>\n      <td>12</td>\n      <td>12</td>\n      <td>12</td>\n      <td>12</td>\n    </tr>\n    <tr>\n      <th>Cedarbrae</th>\n      <td>8</td>\n      <td>8</td>\n      <td>8</td>\n      <td>8</td>\n      <td>8</td>\n      <td>8</td>\n    </tr>\n    <tr>\n      <th>Central Bay Street</th>\n      <td>66</td>\n      <td>66</td>\n      <td>66</td>\n      <td>66</td>\n      <td>66</td>\n      <td>66</td>\n    </tr>\n    <tr>\n      <th>Christie</th>\n      <td>17</td>\n      <td>17</td>\n      <td>17</td>\n      <td>17</td>\n      <td>17</td>\n      <td>17</td>\n    </tr>\n    <tr>\n      <th>Church and Wellesley</th>\n      <td>78</td>\n      <td>78</td>\n      <td>78</td>\n      <td>78</td>\n      <td>78</td>\n      <td>78</td>\n    </tr>\n    <tr>\n      <th>Clarks Corners, Tam O'Shanter, Sullivan</th>\n      <td>12</td>\n      <td>12</td>\n      <td>12</td>\n      <td>12</td>\n      <td>12</td>\n      <td>12</td>\n    </tr>\n    <tr>\n      <th>Cliffside, Cliffcrest, Scarborough Village West</th>\n      <td>2</td>\n      <td>2</td>\n      <td>2</td>\n      <td>2</td>\n      <td>2</td>\n      <td>2</td>\n    </tr>\n    <tr>\n      <th>Commerce Court, Victoria Hotel</th>\n      <td>100</td>\n      <td>100</td>\n      <td>100</td>\n      <td>100</td>\n      <td>100</td>\n      <td>100</td>\n    </tr>\n    <tr>\n      <th>Davisville</th>\n      <td>35</td>\n      <td>35</td>\n      <td>35</td>\n      <td>35</td>\n      <td>35</td>\n      <td>35</td>\n    </tr>\n    <tr>\n      <th>Davisville North</th>\n      <td>8</td>\n      <td>8</td>\n      <td>8</td>\n      <td>8</td>\n      <td>8</td>\n      <td>8</td>\n    </tr>\n    <tr>\n      <th>Del Ray, Mount Dennis, Keelsdale and Silverthorn</th>\n      <td>4</td>\n      <td>4</td>\n      <td>4</td>\n      <td>4</td>\n      <td>4</td>\n      <td>4</td>\n    </tr>\n    <tr>\n      <th>Don Mills</th>\n      <td>26</td>\n      <td>26</td>\n      <td>26</td>\n      <td>26</td>\n      <td>26</td>\n      <td>26</td>\n    </tr>\n    <tr>\n      <th>Dorset Park, Wexford Heights, Scarborough Town Centre</th>\n      <td>8</td>\n      <td>8</td>\n      <td>8</td>\n      <td>8</td>\n      <td>8</td>\n      <td>8</td>\n    </tr>\n    <tr>\n      <th>Downsview</th>\n      <td>15</td>\n      <td>15</td>\n      <td>15</td>\n      <td>15</td>\n      <td>15</td>\n      <td>15</td>\n    </tr>\n    <tr>\n      <th>Dufferin, Dovercourt Village</th>\n      <td>17</td>\n      <td>17</td>\n      <td>17</td>\n      <td>17</td>\n      <td>17</td>\n      <td>17</td>\n    </tr>\n    <tr>\n      <th>East Toronto, Broadview North (Old East York)</th>\n      <td>3</td>\n      <td>3</td>\n      <td>3</td>\n      <td>3</td>\n      <td>3</td>\n      <td>3</td>\n    </tr>\n    <tr>\n      <th>Eringate, Bloordale Gardens, Old Burnhamthorpe, Markland Wood</th>\n      <td>9</td>\n      <td>9</td>\n      <td>9</td>\n      <td>9</td>\n      <td>9</td>\n      <td>9</td>\n    </tr>\n    <tr>\n      <th>Fairview, Henry Farm, Oriole</th>\n      <td>66</td>\n      <td>66</td>\n      <td>66</td>\n      <td>66</td>\n      <td>66</td>\n      <td>66</td>\n    </tr>\n    <tr>\n      <th>First Canadian Place, Underground city</th>\n      <td>100</td>\n      <td>100</td>\n      <td>100</td>\n      <td>100</td>\n      <td>100</td>\n      <td>100</td>\n    </tr>\n    <tr>\n      <th>...</th>\n      <td>...</td>\n      <td>...</td>\n      <td>...</td>\n      <td>...</td>\n      <td>...</td>\n      <td>...</td>\n    </tr>\n    <tr>\n      <th>Rosedale</th>\n      <td>4</td>\n      <td>4</td>\n      <td>4</td>\n      <td>4</td>\n      <td>4</td>\n      <td>4</td>\n    </tr>\n    <tr>\n      <th>Roselawn</th>\n      <td>3</td>\n      <td>3</td>\n      <td>3</td>\n      <td>3</td>\n      <td>3</td>\n      <td>3</td>\n    </tr>\n    <tr>\n      <th>Rouge Hill, Port Union, Highland Creek</th>\n      <td>3</td>\n      <td>3</td>\n      <td>3</td>\n      <td>3</td>\n      <td>3</td>\n      <td>3</td>\n    </tr>\n    <tr>\n      <th>Runnymede, Swansea</th>\n      <td>36</td>\n      <td>36</td>\n      <td>36</td>\n      <td>36</td>\n      <td>36</td>\n      <td>36</td>\n    </tr>\n    <tr>\n      <th>Runnymede, The Junction North</th>\n      <td>3</td>\n      <td>3</td>\n      <td>3</td>\n      <td>3</td>\n      <td>3</td>\n      <td>3</td>\n    </tr>\n    <tr>\n      <th>Scarborough Village</th>\n      <td>2</td>\n      <td>2</td>\n      <td>2</td>\n      <td>2</td>\n      <td>2</td>\n      <td>2</td>\n    </tr>\n    <tr>\n      <th>South Steeles, Silverstone, Humbergate, Jamestown, Mount Olive, Beaumond Heights, Thistletown, Albion Gardens</th>\n      <td>9</td>\n      <td>9</td>\n      <td>9</td>\n      <td>9</td>\n      <td>9</td>\n      <td>9</td>\n    </tr>\n    <tr>\n      <th>St. James Town</th>\n      <td>85</td>\n      <td>85</td>\n      <td>85</td>\n      <td>85</td>\n      <td>85</td>\n      <td>85</td>\n    </tr>\n    <tr>\n      <th>St. James Town, Cabbagetown</th>\n      <td>45</td>\n      <td>45</td>\n      <td>45</td>\n      <td>45</td>\n      <td>45</td>\n      <td>45</td>\n    </tr>\n    <tr>\n      <th>Steeles West, L'Amoreaux West</th>\n      <td>13</td>\n      <td>13</td>\n      <td>13</td>\n      <td>13</td>\n      <td>13</td>\n      <td>13</td>\n    </tr>\n    <tr>\n      <th>Stn A PO Boxes</th>\n      <td>97</td>\n      <td>97</td>\n      <td>97</td>\n      <td>97</td>\n      <td>97</td>\n      <td>97</td>\n    </tr>\n    <tr>\n      <th>Studio District</th>\n      <td>40</td>\n      <td>40</td>\n      <td>40</td>\n      <td>40</td>\n      <td>40</td>\n      <td>40</td>\n    </tr>\n    <tr>\n      <th>Summerhill West, Rathnelly, South Hill, Forest Hill SE, Deer Park</th>\n      <td>16</td>\n      <td>16</td>\n      <td>16</td>\n      <td>16</td>\n      <td>16</td>\n      <td>16</td>\n    </tr>\n    <tr>\n      <th>The Annex, North Midtown, Yorkville</th>\n      <td>21</td>\n      <td>21</td>\n      <td>21</td>\n      <td>21</td>\n      <td>21</td>\n      <td>21</td>\n    </tr>\n    <tr>\n      <th>The Beaches</th>\n      <td>4</td>\n      <td>4</td>\n      <td>4</td>\n      <td>4</td>\n      <td>4</td>\n      <td>4</td>\n    </tr>\n    <tr>\n      <th>The Danforth West, Riverdale</th>\n      <td>42</td>\n      <td>42</td>\n      <td>42</td>\n      <td>42</td>\n      <td>42</td>\n      <td>42</td>\n    </tr>\n    <tr>\n      <th>The Kingsway, Montgomery Road, Old Mill North</th>\n      <td>1</td>\n      <td>1</td>\n      <td>1</td>\n      <td>1</td>\n      <td>1</td>\n      <td>1</td>\n    </tr>\n    <tr>\n      <th>Thorncliffe Park</th>\n      <td>22</td>\n      <td>22</td>\n      <td>22</td>\n      <td>22</td>\n      <td>22</td>\n      <td>22</td>\n    </tr>\n    <tr>\n      <th>Toronto Dominion Centre, Design Exchange</th>\n      <td>100</td>\n      <td>100</td>\n      <td>100</td>\n      <td>100</td>\n      <td>100</td>\n      <td>100</td>\n    </tr>\n    <tr>\n      <th>University of Toronto, Harbord</th>\n      <td>33</td>\n      <td>33</td>\n      <td>33</td>\n      <td>33</td>\n      <td>33</td>\n      <td>33</td>\n    </tr>\n    <tr>\n      <th>Victoria Village</th>\n      <td>6</td>\n      <td>6</td>\n      <td>6</td>\n      <td>6</td>\n      <td>6</td>\n      <td>6</td>\n    </tr>\n    <tr>\n      <th>Westmount</th>\n      <td>8</td>\n      <td>8</td>\n      <td>8</td>\n      <td>8</td>\n      <td>8</td>\n      <td>8</td>\n    </tr>\n    <tr>\n      <th>Weston</th>\n      <td>1</td>\n      <td>1</td>\n      <td>1</td>\n      <td>1</td>\n      <td>1</td>\n      <td>1</td>\n    </tr>\n    <tr>\n      <th>Wexford, Maryvale</th>\n      <td>8</td>\n      <td>8</td>\n      <td>8</td>\n      <td>8</td>\n      <td>8</td>\n      <td>8</td>\n    </tr>\n    <tr>\n      <th>Willowdale, Newtonbrook</th>\n      <td>1</td>\n      <td>1</td>\n      <td>1</td>\n      <td>1</td>\n      <td>1</td>\n      <td>1</td>\n    </tr>\n    <tr>\n      <th>Willowdale, Willowdale East</th>\n      <td>33</td>\n      <td>33</td>\n      <td>33</td>\n      <td>33</td>\n      <td>33</td>\n      <td>33</td>\n    </tr>\n    <tr>\n      <th>Willowdale, Willowdale West</th>\n      <td>5</td>\n      <td>5</td>\n      <td>5</td>\n      <td>5</td>\n      <td>5</td>\n      <td>5</td>\n    </tr>\n    <tr>\n      <th>Woburn</th>\n      <td>3</td>\n      <td>3</td>\n      <td>3</td>\n      <td>3</td>\n      <td>3</td>\n      <td>3</td>\n    </tr>\n    <tr>\n      <th>Woodbine Heights</th>\n      <td>7</td>\n      <td>7</td>\n      <td>7</td>\n      <td>7</td>\n      <td>7</td>\n      <td>7</td>\n    </tr>\n    <tr>\n      <th>York Mills West</th>\n      <td>2</td>\n      <td>2</td>\n      <td>2</td>\n      <td>2</td>\n      <td>2</td>\n      <td>2</td>\n    </tr>\n  </tbody>\n</table>\n<p>95 rows \u00d7 6 columns</p>\n</div>",
                        "text/plain": "                                                    Neighborhood Latitude  \\\nNeighbourhood                                                               \nAgincourt                                                               4   \nAlderwood, Long Branch                                                  8   \nBathurst Manor, Wilson Heights, Downsview North                        21   \nBayview Village                                                         4   \nBedford Park, Lawrence Manor East                                      24   \nBerczy Park                                                            57   \nBirch Cliff, Cliffside West                                             5   \nBrockton, Parkdale Village, Exhibition Place                           25   \nBusiness reply mail Processing Centre, South Ce...                     14   \nCN Tower, King and Spadina, Railway Lands, Harb...                     17   \nCaledonia-Fairbanks                                                     4   \nCanada Post Gateway Processing Centre                                  12   \nCedarbrae                                                               8   \nCentral Bay Street                                                     66   \nChristie                                                               17   \nChurch and Wellesley                                                   78   \nClarks Corners, Tam O'Shanter, Sullivan                                12   \nCliffside, Cliffcrest, Scarborough Village West                         2   \nCommerce Court, Victoria Hotel                                        100   \nDavisville                                                             35   \nDavisville North                                                        8   \nDel Ray, Mount Dennis, Keelsdale and Silverthorn                        4   \nDon Mills                                                              26   \nDorset Park, Wexford Heights, Scarborough Town ...                      8   \nDownsview                                                              15   \nDufferin, Dovercourt Village                                           17   \nEast Toronto, Broadview North (Old East York)                           3   \nEringate, Bloordale Gardens, Old Burnhamthorpe,...                      9   \nFairview, Henry Farm, Oriole                                           66   \nFirst Canadian Place, Underground city                                100   \n...                                                                   ...   \nRosedale                                                                4   \nRoselawn                                                                3   \nRouge Hill, Port Union, Highland Creek                                  3   \nRunnymede, Swansea                                                     36   \nRunnymede, The Junction North                                           3   \nScarborough Village                                                     2   \nSouth Steeles, Silverstone, Humbergate, Jamesto...                      9   \nSt. James Town                                                         85   \nSt. James Town, Cabbagetown                                            45   \nSteeles West, L'Amoreaux West                                          13   \nStn A PO Boxes                                                         97   \nStudio District                                                        40   \nSummerhill West, Rathnelly, South Hill, Forest ...                     16   \nThe Annex, North Midtown, Yorkville                                    21   \nThe Beaches                                                             4   \nThe Danforth West, Riverdale                                           42   \nThe Kingsway, Montgomery Road, Old Mill North                           1   \nThorncliffe Park                                                       22   \nToronto Dominion Centre, Design Exchange                              100   \nUniversity of Toronto, Harbord                                         33   \nVictoria Village                                                        6   \nWestmount                                                               8   \nWeston                                                                  1   \nWexford, Maryvale                                                       8   \nWillowdale, Newtonbrook                                                 1   \nWillowdale, Willowdale East                                            33   \nWillowdale, Willowdale West                                             5   \nWoburn                                                                  3   \nWoodbine Heights                                                        7   \nYork Mills West                                                         2   \n\n                                                    Neighborhood Longitude  \\\nNeighbourhood                                                                \nAgincourt                                                                4   \nAlderwood, Long Branch                                                   8   \nBathurst Manor, Wilson Heights, Downsview North                         21   \nBayview Village                                                          4   \nBedford Park, Lawrence Manor East                                       24   \nBerczy Park                                                             57   \nBirch Cliff, Cliffside West                                              5   \nBrockton, Parkdale Village, Exhibition Place                            25   \nBusiness reply mail Processing Centre, South Ce...                      14   \nCN Tower, King and Spadina, Railway Lands, Harb...                      17   \nCaledonia-Fairbanks                                                      4   \nCanada Post Gateway Processing Centre                                   12   \nCedarbrae                                                                8   \nCentral Bay Street                                                      66   \nChristie                                                                17   \nChurch and Wellesley                                                    78   \nClarks Corners, Tam O'Shanter, Sullivan                                 12   \nCliffside, Cliffcrest, Scarborough Village West                          2   \nCommerce Court, Victoria Hotel                                         100   \nDavisville                                                              35   \nDavisville North                                                         8   \nDel Ray, Mount Dennis, Keelsdale and Silverthorn                         4   \nDon Mills                                                               26   \nDorset Park, Wexford Heights, Scarborough Town ...                       8   \nDownsview                                                               15   \nDufferin, Dovercourt Village                                            17   \nEast Toronto, Broadview North (Old East York)                            3   \nEringate, Bloordale Gardens, Old Burnhamthorpe,...                       9   \nFairview, Henry Farm, Oriole                                            66   \nFirst Canadian Place, Underground city                                 100   \n...                                                                    ...   \nRosedale                                                                 4   \nRoselawn                                                                 3   \nRouge Hill, Port Union, Highland Creek                                   3   \nRunnymede, Swansea                                                      36   \nRunnymede, The Junction North                                            3   \nScarborough Village                                                      2   \nSouth Steeles, Silverstone, Humbergate, Jamesto...                       9   \nSt. James Town                                                          85   \nSt. James Town, Cabbagetown                                             45   \nSteeles West, L'Amoreaux West                                           13   \nStn A PO Boxes                                                          97   \nStudio District                                                         40   \nSummerhill West, Rathnelly, South Hill, Forest ...                      16   \nThe Annex, North Midtown, Yorkville                                     21   \nThe Beaches                                                              4   \nThe Danforth West, Riverdale                                            42   \nThe Kingsway, Montgomery Road, Old Mill North                            1   \nThorncliffe Park                                                        22   \nToronto Dominion Centre, Design Exchange                               100   \nUniversity of Toronto, Harbord                                          33   \nVictoria Village                                                         6   \nWestmount                                                                8   \nWeston                                                                   1   \nWexford, Maryvale                                                        8   \nWillowdale, Newtonbrook                                                  1   \nWillowdale, Willowdale East                                             33   \nWillowdale, Willowdale West                                              5   \nWoburn                                                                   3   \nWoodbine Heights                                                         7   \nYork Mills West                                                          2   \n\n                                                    Venue  Venue Latitude  \\\nNeighbourhood                                                               \nAgincourt                                               4               4   \nAlderwood, Long Branch                                  8               8   \nBathurst Manor, Wilson Heights, Downsview North        21              21   \nBayview Village                                         4               4   \nBedford Park, Lawrence Manor East                      24              24   \nBerczy Park                                            57              57   \nBirch Cliff, Cliffside West                             5               5   \nBrockton, Parkdale Village, Exhibition Place           25              25   \nBusiness reply mail Processing Centre, South Ce...     14              14   \nCN Tower, King and Spadina, Railway Lands, Harb...     17              17   \nCaledonia-Fairbanks                                     4               4   \nCanada Post Gateway Processing Centre                  12              12   \nCedarbrae                                               8               8   \nCentral Bay Street                                     66              66   \nChristie                                               17              17   \nChurch and Wellesley                                   78              78   \nClarks Corners, Tam O'Shanter, Sullivan                12              12   \nCliffside, Cliffcrest, Scarborough Village West         2               2   \nCommerce Court, Victoria Hotel                        100             100   \nDavisville                                             35              35   \nDavisville North                                        8               8   \nDel Ray, Mount Dennis, Keelsdale and Silverthorn        4               4   \nDon Mills                                              26              26   \nDorset Park, Wexford Heights, Scarborough Town ...      8               8   \nDownsview                                              15              15   \nDufferin, Dovercourt Village                           17              17   \nEast Toronto, Broadview North (Old East York)           3               3   \nEringate, Bloordale Gardens, Old Burnhamthorpe,...      9               9   \nFairview, Henry Farm, Oriole                           66              66   \nFirst Canadian Place, Underground city                100             100   \n...                                                   ...             ...   \nRosedale                                                4               4   \nRoselawn                                                3               3   \nRouge Hill, Port Union, Highland Creek                  3               3   \nRunnymede, Swansea                                     36              36   \nRunnymede, The Junction North                           3               3   \nScarborough Village                                     2               2   \nSouth Steeles, Silverstone, Humbergate, Jamesto...      9               9   \nSt. James Town                                         85              85   \nSt. James Town, Cabbagetown                            45              45   \nSteeles West, L'Amoreaux West                          13              13   \nStn A PO Boxes                                         97              97   \nStudio District                                        40              40   \nSummerhill West, Rathnelly, South Hill, Forest ...     16              16   \nThe Annex, North Midtown, Yorkville                    21              21   \nThe Beaches                                             4               4   \nThe Danforth West, Riverdale                           42              42   \nThe Kingsway, Montgomery Road, Old Mill North           1               1   \nThorncliffe Park                                       22              22   \nToronto Dominion Centre, Design Exchange              100             100   \nUniversity of Toronto, Harbord                         33              33   \nVictoria Village                                        6               6   \nWestmount                                               8               8   \nWeston                                                  1               1   \nWexford, Maryvale                                       8               8   \nWillowdale, Newtonbrook                                 1               1   \nWillowdale, Willowdale East                            33              33   \nWillowdale, Willowdale West                             5               5   \nWoburn                                                  3               3   \nWoodbine Heights                                        7               7   \nYork Mills West                                         2               2   \n\n                                                    Venue Longitude  \\\nNeighbourhood                                                         \nAgincourt                                                         4   \nAlderwood, Long Branch                                            8   \nBathurst Manor, Wilson Heights, Downsview North                  21   \nBayview Village                                                   4   \nBedford Park, Lawrence Manor East                                24   \nBerczy Park                                                      57   \nBirch Cliff, Cliffside West                                       5   \nBrockton, Parkdale Village, Exhibition Place                     25   \nBusiness reply mail Processing Centre, South Ce...               14   \nCN Tower, King and Spadina, Railway Lands, Harb...               17   \nCaledonia-Fairbanks                                               4   \nCanada Post Gateway Processing Centre                            12   \nCedarbrae                                                         8   \nCentral Bay Street                                               66   \nChristie                                                         17   \nChurch and Wellesley                                             78   \nClarks Corners, Tam O'Shanter, Sullivan                          12   \nCliffside, Cliffcrest, Scarborough Village West                   2   \nCommerce Court, Victoria Hotel                                  100   \nDavisville                                                       35   \nDavisville North                                                  8   \nDel Ray, Mount Dennis, Keelsdale and Silverthorn                  4   \nDon Mills                                                        26   \nDorset Park, Wexford Heights, Scarborough Town ...                8   \nDownsview                                                        15   \nDufferin, Dovercourt Village                                     17   \nEast Toronto, Broadview North (Old East York)                     3   \nEringate, Bloordale Gardens, Old Burnhamthorpe,...                9   \nFairview, Henry Farm, Oriole                                     66   \nFirst Canadian Place, Underground city                          100   \n...                                                             ...   \nRosedale                                                          4   \nRoselawn                                                          3   \nRouge Hill, Port Union, Highland Creek                            3   \nRunnymede, Swansea                                               36   \nRunnymede, The Junction North                                     3   \nScarborough Village                                               2   \nSouth Steeles, Silverstone, Humbergate, Jamesto...                9   \nSt. James Town                                                   85   \nSt. James Town, Cabbagetown                                      45   \nSteeles West, L'Amoreaux West                                    13   \nStn A PO Boxes                                                   97   \nStudio District                                                  40   \nSummerhill West, Rathnelly, South Hill, Forest ...               16   \nThe Annex, North Midtown, Yorkville                              21   \nThe Beaches                                                       4   \nThe Danforth West, Riverdale                                     42   \nThe Kingsway, Montgomery Road, Old Mill North                     1   \nThorncliffe Park                                                 22   \nToronto Dominion Centre, Design Exchange                        100   \nUniversity of Toronto, Harbord                                   33   \nVictoria Village                                                  6   \nWestmount                                                         8   \nWeston                                                            1   \nWexford, Maryvale                                                 8   \nWillowdale, Newtonbrook                                           1   \nWillowdale, Willowdale East                                      33   \nWillowdale, Willowdale West                                       5   \nWoburn                                                            3   \nWoodbine Heights                                                  7   \nYork Mills West                                                   2   \n\n                                                    Venue Category  \nNeighbourhood                                                       \nAgincourt                                                        4  \nAlderwood, Long Branch                                           8  \nBathurst Manor, Wilson Heights, Downsview North                 21  \nBayview Village                                                  4  \nBedford Park, Lawrence Manor East                               24  \nBerczy Park                                                     57  \nBirch Cliff, Cliffside West                                      5  \nBrockton, Parkdale Village, Exhibition Place                    25  \nBusiness reply mail Processing Centre, South Ce...              14  \nCN Tower, King and Spadina, Railway Lands, Harb...              17  \nCaledonia-Fairbanks                                              4  \nCanada Post Gateway Processing Centre                           12  \nCedarbrae                                                        8  \nCentral Bay Street                                              66  \nChristie                                                        17  \nChurch and Wellesley                                            78  \nClarks Corners, Tam O'Shanter, Sullivan                         12  \nCliffside, Cliffcrest, Scarborough Village West                  2  \nCommerce Court, Victoria Hotel                                 100  \nDavisville                                                      35  \nDavisville North                                                 8  \nDel Ray, Mount Dennis, Keelsdale and Silverthorn                 4  \nDon Mills                                                       26  \nDorset Park, Wexford Heights, Scarborough Town ...               8  \nDownsview                                                       15  \nDufferin, Dovercourt Village                                    17  \nEast Toronto, Broadview North (Old East York)                    3  \nEringate, Bloordale Gardens, Old Burnhamthorpe,...               9  \nFairview, Henry Farm, Oriole                                    66  \nFirst Canadian Place, Underground city                         100  \n...                                                            ...  \nRosedale                                                         4  \nRoselawn                                                         3  \nRouge Hill, Port Union, Highland Creek                           3  \nRunnymede, Swansea                                              36  \nRunnymede, The Junction North                                    3  \nScarborough Village                                              2  \nSouth Steeles, Silverstone, Humbergate, Jamesto...               9  \nSt. James Town                                                  85  \nSt. James Town, Cabbagetown                                     45  \nSteeles West, L'Amoreaux West                                   13  \nStn A PO Boxes                                                  97  \nStudio District                                                 40  \nSummerhill West, Rathnelly, South Hill, Forest ...              16  \nThe Annex, North Midtown, Yorkville                             21  \nThe Beaches                                                      4  \nThe Danforth West, Riverdale                                    42  \nThe Kingsway, Montgomery Road, Old Mill North                    1  \nThorncliffe Park                                                22  \nToronto Dominion Centre, Design Exchange                       100  \nUniversity of Toronto, Harbord                                  33  \nVictoria Village                                                 6  \nWestmount                                                        8  \nWeston                                                           1  \nWexford, Maryvale                                                8  \nWillowdale, Newtonbrook                                          1  \nWillowdale, Willowdale East                                     33  \nWillowdale, Willowdale West                                      5  \nWoburn                                                           3  \nWoodbine Heights                                                 7  \nYork Mills West                                                  2  \n\n[95 rows x 6 columns]"
                    },
                    "execution_count": 26,
                    "metadata": {},
                    "output_type": "execute_result"
                }
            ],
            "source": "toronto_venues.groupby('Neighbourhood').count()"
        },
        {
            "cell_type": "markdown",
            "metadata": {},
            "source": "<b> Number of categories </b>"
        },
        {
            "cell_type": "code",
            "execution_count": 27,
            "metadata": {},
            "outputs": [
                {
                    "data": {
                        "text/html": "<div>\n<style scoped>\n    .dataframe tbody tr th:only-of-type {\n        vertical-align: middle;\n    }\n\n    .dataframe tbody tr th {\n        vertical-align: top;\n    }\n\n    .dataframe thead th {\n        text-align: right;\n    }\n</style>\n<table border=\"1\" class=\"dataframe\">\n  <thead>\n    <tr style=\"text-align: right;\">\n      <th></th>\n      <th>Neighbourhood</th>\n      <th>Accessories Store</th>\n      <th>Afghan Restaurant</th>\n      <th>Airport</th>\n      <th>Airport Food Court</th>\n      <th>Airport Gate</th>\n      <th>Airport Lounge</th>\n      <th>Airport Service</th>\n      <th>Airport Terminal</th>\n      <th>American Restaurant</th>\n      <th>...</th>\n      <th>Train Station</th>\n      <th>Vegetarian / Vegan Restaurant</th>\n      <th>Video Game Store</th>\n      <th>Vietnamese Restaurant</th>\n      <th>Warehouse Store</th>\n      <th>Wine Bar</th>\n      <th>Wine Shop</th>\n      <th>Wings Joint</th>\n      <th>Women's Store</th>\n      <th>Yoga Studio</th>\n    </tr>\n  </thead>\n  <tbody>\n    <tr>\n      <th>0</th>\n      <td>Malvern, Rouge</td>\n      <td>0</td>\n      <td>0</td>\n      <td>0</td>\n      <td>0</td>\n      <td>0</td>\n      <td>0</td>\n      <td>0</td>\n      <td>0</td>\n      <td>0</td>\n      <td>...</td>\n      <td>0</td>\n      <td>0</td>\n      <td>0</td>\n      <td>0</td>\n      <td>0</td>\n      <td>0</td>\n      <td>0</td>\n      <td>0</td>\n      <td>0</td>\n      <td>0</td>\n    </tr>\n    <tr>\n      <th>1</th>\n      <td>Rouge Hill, Port Union, Highland Creek</td>\n      <td>0</td>\n      <td>0</td>\n      <td>0</td>\n      <td>0</td>\n      <td>0</td>\n      <td>0</td>\n      <td>0</td>\n      <td>0</td>\n      <td>0</td>\n      <td>...</td>\n      <td>0</td>\n      <td>0</td>\n      <td>0</td>\n      <td>0</td>\n      <td>0</td>\n      <td>0</td>\n      <td>0</td>\n      <td>0</td>\n      <td>0</td>\n      <td>0</td>\n    </tr>\n    <tr>\n      <th>2</th>\n      <td>Rouge Hill, Port Union, Highland Creek</td>\n      <td>0</td>\n      <td>0</td>\n      <td>0</td>\n      <td>0</td>\n      <td>0</td>\n      <td>0</td>\n      <td>0</td>\n      <td>0</td>\n      <td>0</td>\n      <td>...</td>\n      <td>0</td>\n      <td>0</td>\n      <td>0</td>\n      <td>0</td>\n      <td>0</td>\n      <td>0</td>\n      <td>0</td>\n      <td>0</td>\n      <td>0</td>\n      <td>0</td>\n    </tr>\n    <tr>\n      <th>3</th>\n      <td>Rouge Hill, Port Union, Highland Creek</td>\n      <td>0</td>\n      <td>0</td>\n      <td>0</td>\n      <td>0</td>\n      <td>0</td>\n      <td>0</td>\n      <td>0</td>\n      <td>0</td>\n      <td>0</td>\n      <td>...</td>\n      <td>0</td>\n      <td>0</td>\n      <td>0</td>\n      <td>0</td>\n      <td>0</td>\n      <td>0</td>\n      <td>0</td>\n      <td>0</td>\n      <td>0</td>\n      <td>0</td>\n    </tr>\n    <tr>\n      <th>4</th>\n      <td>Guildwood, Morningside, West Hill</td>\n      <td>0</td>\n      <td>0</td>\n      <td>0</td>\n      <td>0</td>\n      <td>0</td>\n      <td>0</td>\n      <td>0</td>\n      <td>0</td>\n      <td>0</td>\n      <td>...</td>\n      <td>0</td>\n      <td>0</td>\n      <td>0</td>\n      <td>0</td>\n      <td>0</td>\n      <td>0</td>\n      <td>0</td>\n      <td>0</td>\n      <td>0</td>\n      <td>0</td>\n    </tr>\n  </tbody>\n</table>\n<p>5 rows \u00d7 273 columns</p>\n</div>",
                        "text/plain": "                            Neighbourhood  Accessories Store  \\\n0                          Malvern, Rouge                  0   \n1  Rouge Hill, Port Union, Highland Creek                  0   \n2  Rouge Hill, Port Union, Highland Creek                  0   \n3  Rouge Hill, Port Union, Highland Creek                  0   \n4       Guildwood, Morningside, West Hill                  0   \n\n   Afghan Restaurant  Airport  Airport Food Court  Airport Gate  \\\n0                  0        0                   0             0   \n1                  0        0                   0             0   \n2                  0        0                   0             0   \n3                  0        0                   0             0   \n4                  0        0                   0             0   \n\n   Airport Lounge  Airport Service  Airport Terminal  American Restaurant  \\\n0               0                0                 0                    0   \n1               0                0                 0                    0   \n2               0                0                 0                    0   \n3               0                0                 0                    0   \n4               0                0                 0                    0   \n\n   ...  Train Station  Vegetarian / Vegan Restaurant  Video Game Store  \\\n0  ...              0                              0                 0   \n1  ...              0                              0                 0   \n2  ...              0                              0                 0   \n3  ...              0                              0                 0   \n4  ...              0                              0                 0   \n\n   Vietnamese Restaurant  Warehouse Store  Wine Bar  Wine Shop  Wings Joint  \\\n0                      0                0         0          0            0   \n1                      0                0         0          0            0   \n2                      0                0         0          0            0   \n3                      0                0         0          0            0   \n4                      0                0         0          0            0   \n\n   Women's Store  Yoga Studio  \n0              0            0  \n1              0            0  \n2              0            0  \n3              0            0  \n4              0            0  \n\n[5 rows x 273 columns]"
                    },
                    "execution_count": 27,
                    "metadata": {},
                    "output_type": "execute_result"
                }
            ],
            "source": "# one hot encoding\ntoronto_onehot = pd.get_dummies(toronto_venues[['Venue Category']], prefix=\"\", prefix_sep=\"\")\n\n# add neighborhood column back to dataframe\ntoronto_onehot['Neighbourhood'] = toronto_venues['Neighbourhood'] \n\n# move neighborhood column to the first column\nfixed_columns = [toronto_onehot.columns[-1]] + list(toronto_onehot.columns[:-1])\ntoronto_onehot = toronto_onehot[fixed_columns]\n\ntoronto_onehot.head()"
        },
        {
            "cell_type": "code",
            "execution_count": 28,
            "metadata": {},
            "outputs": [
                {
                    "data": {
                        "text/plain": "(2143, 273)"
                    },
                    "execution_count": 28,
                    "metadata": {},
                    "output_type": "execute_result"
                }
            ],
            "source": "toronto_onehot.shape"
        },
        {
            "cell_type": "code",
            "execution_count": 29,
            "metadata": {},
            "outputs": [
                {
                    "data": {
                        "text/html": "<div>\n<style scoped>\n    .dataframe tbody tr th:only-of-type {\n        vertical-align: middle;\n    }\n\n    .dataframe tbody tr th {\n        vertical-align: top;\n    }\n\n    .dataframe thead th {\n        text-align: right;\n    }\n</style>\n<table border=\"1\" class=\"dataframe\">\n  <thead>\n    <tr style=\"text-align: right;\">\n      <th></th>\n      <th>Neighbourhood</th>\n      <th>Accessories Store</th>\n      <th>Afghan Restaurant</th>\n      <th>Airport</th>\n      <th>Airport Food Court</th>\n      <th>Airport Gate</th>\n      <th>Airport Lounge</th>\n      <th>Airport Service</th>\n      <th>Airport Terminal</th>\n      <th>American Restaurant</th>\n      <th>...</th>\n      <th>Train Station</th>\n      <th>Vegetarian / Vegan Restaurant</th>\n      <th>Video Game Store</th>\n      <th>Vietnamese Restaurant</th>\n      <th>Warehouse Store</th>\n      <th>Wine Bar</th>\n      <th>Wine Shop</th>\n      <th>Wings Joint</th>\n      <th>Women's Store</th>\n      <th>Yoga Studio</th>\n    </tr>\n  </thead>\n  <tbody>\n    <tr>\n      <th>0</th>\n      <td>Agincourt</td>\n      <td>0.0</td>\n      <td>0.0</td>\n      <td>0.0</td>\n      <td>0.0</td>\n      <td>0.0</td>\n      <td>0.0</td>\n      <td>0.0</td>\n      <td>0.0</td>\n      <td>0.000000</td>\n      <td>...</td>\n      <td>0.0</td>\n      <td>0.0</td>\n      <td>0.0</td>\n      <td>0.0</td>\n      <td>0.0</td>\n      <td>0.0</td>\n      <td>0.0</td>\n      <td>0.0</td>\n      <td>0.0</td>\n      <td>0.0</td>\n    </tr>\n    <tr>\n      <th>1</th>\n      <td>Alderwood, Long Branch</td>\n      <td>0.0</td>\n      <td>0.0</td>\n      <td>0.0</td>\n      <td>0.0</td>\n      <td>0.0</td>\n      <td>0.0</td>\n      <td>0.0</td>\n      <td>0.0</td>\n      <td>0.000000</td>\n      <td>...</td>\n      <td>0.0</td>\n      <td>0.0</td>\n      <td>0.0</td>\n      <td>0.0</td>\n      <td>0.0</td>\n      <td>0.0</td>\n      <td>0.0</td>\n      <td>0.0</td>\n      <td>0.0</td>\n      <td>0.0</td>\n    </tr>\n    <tr>\n      <th>2</th>\n      <td>Bathurst Manor, Wilson Heights, Downsview North</td>\n      <td>0.0</td>\n      <td>0.0</td>\n      <td>0.0</td>\n      <td>0.0</td>\n      <td>0.0</td>\n      <td>0.0</td>\n      <td>0.0</td>\n      <td>0.0</td>\n      <td>0.000000</td>\n      <td>...</td>\n      <td>0.0</td>\n      <td>0.0</td>\n      <td>0.0</td>\n      <td>0.0</td>\n      <td>0.0</td>\n      <td>0.0</td>\n      <td>0.0</td>\n      <td>0.0</td>\n      <td>0.0</td>\n      <td>0.0</td>\n    </tr>\n    <tr>\n      <th>3</th>\n      <td>Bayview Village</td>\n      <td>0.0</td>\n      <td>0.0</td>\n      <td>0.0</td>\n      <td>0.0</td>\n      <td>0.0</td>\n      <td>0.0</td>\n      <td>0.0</td>\n      <td>0.0</td>\n      <td>0.000000</td>\n      <td>...</td>\n      <td>0.0</td>\n      <td>0.0</td>\n      <td>0.0</td>\n      <td>0.0</td>\n      <td>0.0</td>\n      <td>0.0</td>\n      <td>0.0</td>\n      <td>0.0</td>\n      <td>0.0</td>\n      <td>0.0</td>\n    </tr>\n    <tr>\n      <th>4</th>\n      <td>Bedford Park, Lawrence Manor East</td>\n      <td>0.0</td>\n      <td>0.0</td>\n      <td>0.0</td>\n      <td>0.0</td>\n      <td>0.0</td>\n      <td>0.0</td>\n      <td>0.0</td>\n      <td>0.0</td>\n      <td>0.041667</td>\n      <td>...</td>\n      <td>0.0</td>\n      <td>0.0</td>\n      <td>0.0</td>\n      <td>0.0</td>\n      <td>0.0</td>\n      <td>0.0</td>\n      <td>0.0</td>\n      <td>0.0</td>\n      <td>0.0</td>\n      <td>0.0</td>\n    </tr>\n  </tbody>\n</table>\n<p>5 rows \u00d7 273 columns</p>\n</div>",
                        "text/plain": "                                     Neighbourhood  Accessories Store  \\\n0                                        Agincourt                0.0   \n1                           Alderwood, Long Branch                0.0   \n2  Bathurst Manor, Wilson Heights, Downsview North                0.0   \n3                                  Bayview Village                0.0   \n4                Bedford Park, Lawrence Manor East                0.0   \n\n   Afghan Restaurant  Airport  Airport Food Court  Airport Gate  \\\n0                0.0      0.0                 0.0           0.0   \n1                0.0      0.0                 0.0           0.0   \n2                0.0      0.0                 0.0           0.0   \n3                0.0      0.0                 0.0           0.0   \n4                0.0      0.0                 0.0           0.0   \n\n   Airport Lounge  Airport Service  Airport Terminal  American Restaurant  \\\n0             0.0              0.0               0.0             0.000000   \n1             0.0              0.0               0.0             0.000000   \n2             0.0              0.0               0.0             0.000000   \n3             0.0              0.0               0.0             0.000000   \n4             0.0              0.0               0.0             0.041667   \n\n   ...  Train Station  Vegetarian / Vegan Restaurant  Video Game Store  \\\n0  ...            0.0                            0.0               0.0   \n1  ...            0.0                            0.0               0.0   \n2  ...            0.0                            0.0               0.0   \n3  ...            0.0                            0.0               0.0   \n4  ...            0.0                            0.0               0.0   \n\n   Vietnamese Restaurant  Warehouse Store  Wine Bar  Wine Shop  Wings Joint  \\\n0                    0.0              0.0       0.0        0.0          0.0   \n1                    0.0              0.0       0.0        0.0          0.0   \n2                    0.0              0.0       0.0        0.0          0.0   \n3                    0.0              0.0       0.0        0.0          0.0   \n4                    0.0              0.0       0.0        0.0          0.0   \n\n   Women's Store  Yoga Studio  \n0            0.0          0.0  \n1            0.0          0.0  \n2            0.0          0.0  \n3            0.0          0.0  \n4            0.0          0.0  \n\n[5 rows x 273 columns]"
                    },
                    "execution_count": 29,
                    "metadata": {},
                    "output_type": "execute_result"
                }
            ],
            "source": "toronto_grouped = toronto_onehot.groupby('Neighbourhood').mean().reset_index()\ntoronto_grouped.head()"
        },
        {
            "cell_type": "code",
            "execution_count": 30,
            "metadata": {},
            "outputs": [
                {
                    "data": {
                        "text/plain": "(95, 273)"
                    },
                    "execution_count": 30,
                    "metadata": {},
                    "output_type": "execute_result"
                }
            ],
            "source": "toronto_grouped.shape"
        },
        {
            "cell_type": "markdown",
            "metadata": {},
            "source": "<b>Get the top 10 for each neighbourhood</b>"
        },
        {
            "cell_type": "code",
            "execution_count": 31,
            "metadata": {},
            "outputs": [],
            "source": "def return_most_common_venues(row, num_top_venues):\n    row_categories = row.iloc[1:]\n    row_categories_sorted = row_categories.sort_values(ascending=False)\n    \n    return row_categories_sorted.index.values[0:num_top_venues]"
        },
        {
            "cell_type": "code",
            "execution_count": 32,
            "metadata": {},
            "outputs": [
                {
                    "data": {
                        "text/html": "<div>\n<style scoped>\n    .dataframe tbody tr th:only-of-type {\n        vertical-align: middle;\n    }\n\n    .dataframe tbody tr th {\n        vertical-align: top;\n    }\n\n    .dataframe thead th {\n        text-align: right;\n    }\n</style>\n<table border=\"1\" class=\"dataframe\">\n  <thead>\n    <tr style=\"text-align: right;\">\n      <th></th>\n      <th>Neighbourhood</th>\n      <th>1st Most Common Venue</th>\n      <th>2nd Most Common Venue</th>\n      <th>3rd Most Common Venue</th>\n      <th>4th Most Common Venue</th>\n      <th>5th Most Common Venue</th>\n      <th>6th Most Common Venue</th>\n      <th>7th Most Common Venue</th>\n      <th>8th Most Common Venue</th>\n      <th>9th Most Common Venue</th>\n      <th>10th Most Common Venue</th>\n    </tr>\n  </thead>\n  <tbody>\n    <tr>\n      <th>0</th>\n      <td>Agincourt</td>\n      <td>Lounge</td>\n      <td>Skating Rink</td>\n      <td>Latin American Restaurant</td>\n      <td>Breakfast Spot</td>\n      <td>Ethiopian Restaurant</td>\n      <td>Event Space</td>\n      <td>Escape Room</td>\n      <td>Electronics Store</td>\n      <td>Diner</td>\n      <td>Eastern European Restaurant</td>\n    </tr>\n    <tr>\n      <th>1</th>\n      <td>Alderwood, Long Branch</td>\n      <td>Pizza Place</td>\n      <td>Coffee Shop</td>\n      <td>Sandwich Place</td>\n      <td>Pub</td>\n      <td>Pool</td>\n      <td>Skating Rink</td>\n      <td>Gym</td>\n      <td>Comic Shop</td>\n      <td>Concert Hall</td>\n      <td>Electronics Store</td>\n    </tr>\n    <tr>\n      <th>2</th>\n      <td>Bathurst Manor, Wilson Heights, Downsview North</td>\n      <td>Coffee Shop</td>\n      <td>Bank</td>\n      <td>Sushi Restaurant</td>\n      <td>Fried Chicken Joint</td>\n      <td>Sandwich Place</td>\n      <td>Bridal Shop</td>\n      <td>Diner</td>\n      <td>Restaurant</td>\n      <td>Intersection</td>\n      <td>Ice Cream Shop</td>\n    </tr>\n    <tr>\n      <th>3</th>\n      <td>Bayview Village</td>\n      <td>Caf\u00e9</td>\n      <td>Bank</td>\n      <td>Japanese Restaurant</td>\n      <td>Chinese Restaurant</td>\n      <td>Yoga Studio</td>\n      <td>Diner</td>\n      <td>Distribution Center</td>\n      <td>Dog Run</td>\n      <td>Doner Restaurant</td>\n      <td>Donut Shop</td>\n    </tr>\n    <tr>\n      <th>4</th>\n      <td>Bedford Park, Lawrence Manor East</td>\n      <td>Coffee Shop</td>\n      <td>Sandwich Place</td>\n      <td>Italian Restaurant</td>\n      <td>Sushi Restaurant</td>\n      <td>Cupcake Shop</td>\n      <td>Pharmacy</td>\n      <td>Pizza Place</td>\n      <td>Caf\u00e9</td>\n      <td>Butcher</td>\n      <td>Pub</td>\n    </tr>\n  </tbody>\n</table>\n</div>",
                        "text/plain": "                                     Neighbourhood 1st Most Common Venue  \\\n0                                        Agincourt                Lounge   \n1                           Alderwood, Long Branch           Pizza Place   \n2  Bathurst Manor, Wilson Heights, Downsview North           Coffee Shop   \n3                                  Bayview Village                  Caf\u00e9   \n4                Bedford Park, Lawrence Manor East           Coffee Shop   \n\n  2nd Most Common Venue      3rd Most Common Venue 4th Most Common Venue  \\\n0          Skating Rink  Latin American Restaurant        Breakfast Spot   \n1           Coffee Shop             Sandwich Place                   Pub   \n2                  Bank           Sushi Restaurant   Fried Chicken Joint   \n3                  Bank        Japanese Restaurant    Chinese Restaurant   \n4        Sandwich Place         Italian Restaurant      Sushi Restaurant   \n\n  5th Most Common Venue 6th Most Common Venue 7th Most Common Venue  \\\n0  Ethiopian Restaurant           Event Space           Escape Room   \n1                  Pool          Skating Rink                   Gym   \n2        Sandwich Place           Bridal Shop                 Diner   \n3           Yoga Studio                 Diner   Distribution Center   \n4          Cupcake Shop              Pharmacy           Pizza Place   \n\n  8th Most Common Venue 9th Most Common Venue       10th Most Common Venue  \n0     Electronics Store                 Diner  Eastern European Restaurant  \n1            Comic Shop          Concert Hall            Electronics Store  \n2            Restaurant          Intersection               Ice Cream Shop  \n3               Dog Run      Doner Restaurant                   Donut Shop  \n4                  Caf\u00e9               Butcher                          Pub  "
                    },
                    "execution_count": 32,
                    "metadata": {},
                    "output_type": "execute_result"
                }
            ],
            "source": "import numpy as np\nnum_top_venues = 10\n\nindicators = ['st', 'nd', 'rd']\n\n# create columns according to number of top venues\ncolumns = ['Neighbourhood']\nfor ind in np.arange(num_top_venues):\n    try:\n        columns.append('{}{} Most Common Venue'.format(ind+1, indicators[ind]))\n    except:\n        columns.append('{}th Most Common Venue'.format(ind+1))\n\n# create a new dataframe\nneighborhoods_venues_sorted = pd.DataFrame(columns=columns)\nneighborhoods_venues_sorted['Neighbourhood'] = toronto_grouped['Neighbourhood']\n\nfor ind in np.arange(toronto_grouped.shape[0]):\n    neighborhoods_venues_sorted.iloc[ind, 1:] = return_most_common_venues(toronto_grouped.iloc[ind, :], num_top_venues)\n\nneighborhoods_venues_sorted.head()"
        },
        {
            "cell_type": "code",
            "execution_count": 33,
            "metadata": {},
            "outputs": [
                {
                    "data": {
                        "text/plain": "array([0, 0, 0, 0, 0, 0, 0, 0, 0, 0], dtype=int32)"
                    },
                    "execution_count": 33,
                    "metadata": {},
                    "output_type": "execute_result"
                }
            ],
            "source": "# import k-means from clustering stage\nfrom sklearn.cluster import KMeans\n\n# set number of clusters\nkclusters = 5\n\ntoronto_grouped_clustering = toronto_grouped.drop('Neighbourhood', 1)\n\n# run k-means clustering\nkmeans = KMeans(n_clusters=kclusters, random_state=0).fit(toronto_grouped_clustering)\n\n# check cluster labels generated for each row in the dataframe\nkmeans.labels_[0:10]"
        },
        {
            "cell_type": "markdown",
            "metadata": {},
            "source": "<b>Merge the dataframe</b>"
        },
        {
            "cell_type": "code",
            "execution_count": 34,
            "metadata": {},
            "outputs": [
                {
                    "data": {
                        "text/html": "<div>\n<style scoped>\n    .dataframe tbody tr th:only-of-type {\n        vertical-align: middle;\n    }\n\n    .dataframe tbody tr th {\n        vertical-align: top;\n    }\n\n    .dataframe thead th {\n        text-align: right;\n    }\n</style>\n<table border=\"1\" class=\"dataframe\">\n  <thead>\n    <tr style=\"text-align: right;\">\n      <th></th>\n      <th>PostalCode</th>\n      <th>Borough</th>\n      <th>Neighborhood</th>\n      <th>Latitude</th>\n      <th>Longitude</th>\n      <th>1st Most Common Venue</th>\n      <th>2nd Most Common Venue</th>\n      <th>3rd Most Common Venue</th>\n      <th>4th Most Common Venue</th>\n      <th>5th Most Common Venue</th>\n      <th>6th Most Common Venue</th>\n      <th>7th Most Common Venue</th>\n      <th>8th Most Common Venue</th>\n      <th>9th Most Common Venue</th>\n      <th>10th Most Common Venue</th>\n    </tr>\n  </thead>\n  <tbody>\n    <tr>\n      <th>0</th>\n      <td>M1B</td>\n      <td>Scarborough</td>\n      <td>Malvern, Rouge</td>\n      <td>43.806686</td>\n      <td>-79.194353</td>\n      <td>Fast Food Restaurant</td>\n      <td>Drugstore</td>\n      <td>Diner</td>\n      <td>Discount Store</td>\n      <td>Distribution Center</td>\n      <td>Dog Run</td>\n      <td>Doner Restaurant</td>\n      <td>Donut Shop</td>\n      <td>Dumpling Restaurant</td>\n      <td>Farm</td>\n    </tr>\n    <tr>\n      <th>1</th>\n      <td>M1C</td>\n      <td>Scarborough</td>\n      <td>Rouge Hill, Port Union, Highland Creek</td>\n      <td>43.784535</td>\n      <td>-79.160497</td>\n      <td>Construction &amp; Landscaping</td>\n      <td>Bar</td>\n      <td>Home Service</td>\n      <td>Yoga Studio</td>\n      <td>Drugstore</td>\n      <td>Distribution Center</td>\n      <td>Dog Run</td>\n      <td>Doner Restaurant</td>\n      <td>Donut Shop</td>\n      <td>Dumpling Restaurant</td>\n    </tr>\n    <tr>\n      <th>2</th>\n      <td>M1E</td>\n      <td>Scarborough</td>\n      <td>Guildwood, Morningside, West Hill</td>\n      <td>43.763573</td>\n      <td>-79.188711</td>\n      <td>Rental Car Location</td>\n      <td>Mexican Restaurant</td>\n      <td>Electronics Store</td>\n      <td>Breakfast Spot</td>\n      <td>Intersection</td>\n      <td>Medical Center</td>\n      <td>Bank</td>\n      <td>Distribution Center</td>\n      <td>Dog Run</td>\n      <td>Doner Restaurant</td>\n    </tr>\n    <tr>\n      <th>3</th>\n      <td>M1G</td>\n      <td>Scarborough</td>\n      <td>Woburn</td>\n      <td>43.770992</td>\n      <td>-79.216917</td>\n      <td>Coffee Shop</td>\n      <td>Korean Restaurant</td>\n      <td>Dumpling Restaurant</td>\n      <td>Discount Store</td>\n      <td>Distribution Center</td>\n      <td>Dog Run</td>\n      <td>Doner Restaurant</td>\n      <td>Donut Shop</td>\n      <td>Drugstore</td>\n      <td>Yoga Studio</td>\n    </tr>\n    <tr>\n      <th>4</th>\n      <td>M1H</td>\n      <td>Scarborough</td>\n      <td>Cedarbrae</td>\n      <td>43.773136</td>\n      <td>-79.239476</td>\n      <td>Bakery</td>\n      <td>Bank</td>\n      <td>Hakka Restaurant</td>\n      <td>Caribbean Restaurant</td>\n      <td>Athletics &amp; Sports</td>\n      <td>Thai Restaurant</td>\n      <td>Gas Station</td>\n      <td>Fried Chicken Joint</td>\n      <td>Dog Run</td>\n      <td>Diner</td>\n    </tr>\n  </tbody>\n</table>\n</div>",
                        "text/plain": "  PostalCode      Borough                            Neighborhood   Latitude  \\\n0        M1B  Scarborough                          Malvern, Rouge  43.806686   \n1        M1C  Scarborough  Rouge Hill, Port Union, Highland Creek  43.784535   \n2        M1E  Scarborough       Guildwood, Morningside, West Hill  43.763573   \n3        M1G  Scarborough                                  Woburn  43.770992   \n4        M1H  Scarborough                               Cedarbrae  43.773136   \n\n   Longitude       1st Most Common Venue 2nd Most Common Venue  \\\n0 -79.194353        Fast Food Restaurant             Drugstore   \n1 -79.160497  Construction & Landscaping                   Bar   \n2 -79.188711         Rental Car Location    Mexican Restaurant   \n3 -79.216917                 Coffee Shop     Korean Restaurant   \n4 -79.239476                      Bakery                  Bank   \n\n  3rd Most Common Venue 4th Most Common Venue 5th Most Common Venue  \\\n0                 Diner        Discount Store   Distribution Center   \n1          Home Service           Yoga Studio             Drugstore   \n2     Electronics Store        Breakfast Spot          Intersection   \n3   Dumpling Restaurant        Discount Store   Distribution Center   \n4      Hakka Restaurant  Caribbean Restaurant    Athletics & Sports   \n\n  6th Most Common Venue 7th Most Common Venue 8th Most Common Venue  \\\n0               Dog Run      Doner Restaurant            Donut Shop   \n1   Distribution Center               Dog Run      Doner Restaurant   \n2        Medical Center                  Bank   Distribution Center   \n3               Dog Run      Doner Restaurant            Donut Shop   \n4       Thai Restaurant           Gas Station   Fried Chicken Joint   \n\n  9th Most Common Venue 10th Most Common Venue  \n0   Dumpling Restaurant                   Farm  \n1            Donut Shop    Dumpling Restaurant  \n2               Dog Run       Doner Restaurant  \n3             Drugstore            Yoga Studio  \n4               Dog Run                  Diner  "
                    },
                    "execution_count": 34,
                    "metadata": {},
                    "output_type": "execute_result"
                }
            ],
            "source": "# add clustering labels\n#neighborhoods_venues_sorted.insert(0, 'Cluster Labels', kmeans.labels_)\n\ntoronto_merged = df_toronto\n\n# merge toronto_grouped with toronto_data to add latitude/longitude for each neighborhood\ntoronto_merged = toronto_merged.join(neighborhoods_venues_sorted.set_index('Neighbourhood'), on='Neighborhood')\n\ntoronto_merged.head() # check the last columns!"
        },
        {
            "cell_type": "code",
            "execution_count": 38,
            "metadata": {},
            "outputs": [
                {
                    "ename": "KeyError",
                    "evalue": "'Cluster Labels'",
                    "output_type": "error",
                    "traceback": [
                        "\u001b[0;31m---------------------------------------------------------------------------\u001b[0m",
                        "\u001b[0;31mKeyError\u001b[0m                                  Traceback (most recent call last)",
                        "\u001b[0;32m/opt/conda/envs/Python36/lib/python3.6/site-packages/pandas/core/indexes/base.py\u001b[0m in \u001b[0;36mget_loc\u001b[0;34m(self, key, method, tolerance)\u001b[0m\n\u001b[1;32m   2655\u001b[0m             \u001b[0;32mtry\u001b[0m\u001b[0;34m:\u001b[0m\u001b[0;34m\u001b[0m\u001b[0;34m\u001b[0m\u001b[0m\n\u001b[0;32m-> 2656\u001b[0;31m                 \u001b[0;32mreturn\u001b[0m \u001b[0mself\u001b[0m\u001b[0;34m.\u001b[0m\u001b[0m_engine\u001b[0m\u001b[0;34m.\u001b[0m\u001b[0mget_loc\u001b[0m\u001b[0;34m(\u001b[0m\u001b[0mkey\u001b[0m\u001b[0;34m)\u001b[0m\u001b[0;34m\u001b[0m\u001b[0;34m\u001b[0m\u001b[0m\n\u001b[0m\u001b[1;32m   2657\u001b[0m             \u001b[0;32mexcept\u001b[0m \u001b[0mKeyError\u001b[0m\u001b[0;34m:\u001b[0m\u001b[0;34m\u001b[0m\u001b[0;34m\u001b[0m\u001b[0m\n",
                        "\u001b[0;32mpandas/_libs/index.pyx\u001b[0m in \u001b[0;36mpandas._libs.index.IndexEngine.get_loc\u001b[0;34m()\u001b[0m\n",
                        "\u001b[0;32mpandas/_libs/index.pyx\u001b[0m in \u001b[0;36mpandas._libs.index.IndexEngine.get_loc\u001b[0;34m()\u001b[0m\n",
                        "\u001b[0;32mpandas/_libs/hashtable_class_helper.pxi\u001b[0m in \u001b[0;36mpandas._libs.hashtable.PyObjectHashTable.get_item\u001b[0;34m()\u001b[0m\n",
                        "\u001b[0;32mpandas/_libs/hashtable_class_helper.pxi\u001b[0m in \u001b[0;36mpandas._libs.hashtable.PyObjectHashTable.get_item\u001b[0;34m()\u001b[0m\n",
                        "\u001b[0;31mKeyError\u001b[0m: 'Cluster Labels'",
                        "\nDuring handling of the above exception, another exception occurred:\n",
                        "\u001b[0;31mKeyError\u001b[0m                                  Traceback (most recent call last)",
                        "\u001b[0;32m<ipython-input-38-51e4c3212cba>\u001b[0m in \u001b[0;36m<module>\u001b[0;34m\u001b[0m\n\u001b[0;32m----> 1\u001b[0;31m \u001b[0mtoronto_merged\u001b[0m\u001b[0;34m[\u001b[0m\u001b[0mtoronto_merged\u001b[0m\u001b[0;34m[\u001b[0m\u001b[0;34m'Cluster Labels'\u001b[0m\u001b[0;34m]\u001b[0m\u001b[0;34m.\u001b[0m\u001b[0misnull\u001b[0m\u001b[0;34m(\u001b[0m\u001b[0;34m)\u001b[0m\u001b[0;34m]\u001b[0m\u001b[0;34m\u001b[0m\u001b[0;34m\u001b[0m\u001b[0m\n\u001b[0m",
                        "\u001b[0;32m/opt/conda/envs/Python36/lib/python3.6/site-packages/pandas/core/frame.py\u001b[0m in \u001b[0;36m__getitem__\u001b[0;34m(self, key)\u001b[0m\n\u001b[1;32m   2925\u001b[0m             \u001b[0;32mif\u001b[0m \u001b[0mself\u001b[0m\u001b[0;34m.\u001b[0m\u001b[0mcolumns\u001b[0m\u001b[0;34m.\u001b[0m\u001b[0mnlevels\u001b[0m \u001b[0;34m>\u001b[0m \u001b[0;36m1\u001b[0m\u001b[0;34m:\u001b[0m\u001b[0;34m\u001b[0m\u001b[0;34m\u001b[0m\u001b[0m\n\u001b[1;32m   2926\u001b[0m                 \u001b[0;32mreturn\u001b[0m \u001b[0mself\u001b[0m\u001b[0;34m.\u001b[0m\u001b[0m_getitem_multilevel\u001b[0m\u001b[0;34m(\u001b[0m\u001b[0mkey\u001b[0m\u001b[0;34m)\u001b[0m\u001b[0;34m\u001b[0m\u001b[0;34m\u001b[0m\u001b[0m\n\u001b[0;32m-> 2927\u001b[0;31m             \u001b[0mindexer\u001b[0m \u001b[0;34m=\u001b[0m \u001b[0mself\u001b[0m\u001b[0;34m.\u001b[0m\u001b[0mcolumns\u001b[0m\u001b[0;34m.\u001b[0m\u001b[0mget_loc\u001b[0m\u001b[0;34m(\u001b[0m\u001b[0mkey\u001b[0m\u001b[0;34m)\u001b[0m\u001b[0;34m\u001b[0m\u001b[0;34m\u001b[0m\u001b[0m\n\u001b[0m\u001b[1;32m   2928\u001b[0m             \u001b[0;32mif\u001b[0m \u001b[0mis_integer\u001b[0m\u001b[0;34m(\u001b[0m\u001b[0mindexer\u001b[0m\u001b[0;34m)\u001b[0m\u001b[0;34m:\u001b[0m\u001b[0;34m\u001b[0m\u001b[0;34m\u001b[0m\u001b[0m\n\u001b[1;32m   2929\u001b[0m                 \u001b[0mindexer\u001b[0m \u001b[0;34m=\u001b[0m \u001b[0;34m[\u001b[0m\u001b[0mindexer\u001b[0m\u001b[0;34m]\u001b[0m\u001b[0;34m\u001b[0m\u001b[0;34m\u001b[0m\u001b[0m\n",
                        "\u001b[0;32m/opt/conda/envs/Python36/lib/python3.6/site-packages/pandas/core/indexes/base.py\u001b[0m in \u001b[0;36mget_loc\u001b[0;34m(self, key, method, tolerance)\u001b[0m\n\u001b[1;32m   2656\u001b[0m                 \u001b[0;32mreturn\u001b[0m \u001b[0mself\u001b[0m\u001b[0;34m.\u001b[0m\u001b[0m_engine\u001b[0m\u001b[0;34m.\u001b[0m\u001b[0mget_loc\u001b[0m\u001b[0;34m(\u001b[0m\u001b[0mkey\u001b[0m\u001b[0;34m)\u001b[0m\u001b[0;34m\u001b[0m\u001b[0;34m\u001b[0m\u001b[0m\n\u001b[1;32m   2657\u001b[0m             \u001b[0;32mexcept\u001b[0m \u001b[0mKeyError\u001b[0m\u001b[0;34m:\u001b[0m\u001b[0;34m\u001b[0m\u001b[0;34m\u001b[0m\u001b[0m\n\u001b[0;32m-> 2658\u001b[0;31m                 \u001b[0;32mreturn\u001b[0m \u001b[0mself\u001b[0m\u001b[0;34m.\u001b[0m\u001b[0m_engine\u001b[0m\u001b[0;34m.\u001b[0m\u001b[0mget_loc\u001b[0m\u001b[0;34m(\u001b[0m\u001b[0mself\u001b[0m\u001b[0;34m.\u001b[0m\u001b[0m_maybe_cast_indexer\u001b[0m\u001b[0;34m(\u001b[0m\u001b[0mkey\u001b[0m\u001b[0;34m)\u001b[0m\u001b[0;34m)\u001b[0m\u001b[0;34m\u001b[0m\u001b[0;34m\u001b[0m\u001b[0m\n\u001b[0m\u001b[1;32m   2659\u001b[0m         \u001b[0mindexer\u001b[0m \u001b[0;34m=\u001b[0m \u001b[0mself\u001b[0m\u001b[0;34m.\u001b[0m\u001b[0mget_indexer\u001b[0m\u001b[0;34m(\u001b[0m\u001b[0;34m[\u001b[0m\u001b[0mkey\u001b[0m\u001b[0;34m]\u001b[0m\u001b[0;34m,\u001b[0m \u001b[0mmethod\u001b[0m\u001b[0;34m=\u001b[0m\u001b[0mmethod\u001b[0m\u001b[0;34m,\u001b[0m \u001b[0mtolerance\u001b[0m\u001b[0;34m=\u001b[0m\u001b[0mtolerance\u001b[0m\u001b[0;34m)\u001b[0m\u001b[0;34m\u001b[0m\u001b[0;34m\u001b[0m\u001b[0m\n\u001b[1;32m   2660\u001b[0m         \u001b[0;32mif\u001b[0m \u001b[0mindexer\u001b[0m\u001b[0;34m.\u001b[0m\u001b[0mndim\u001b[0m \u001b[0;34m>\u001b[0m \u001b[0;36m1\u001b[0m \u001b[0;32mor\u001b[0m \u001b[0mindexer\u001b[0m\u001b[0;34m.\u001b[0m\u001b[0msize\u001b[0m \u001b[0;34m>\u001b[0m \u001b[0;36m1\u001b[0m\u001b[0;34m:\u001b[0m\u001b[0;34m\u001b[0m\u001b[0;34m\u001b[0m\u001b[0m\n",
                        "\u001b[0;32mpandas/_libs/index.pyx\u001b[0m in \u001b[0;36mpandas._libs.index.IndexEngine.get_loc\u001b[0;34m()\u001b[0m\n",
                        "\u001b[0;32mpandas/_libs/index.pyx\u001b[0m in \u001b[0;36mpandas._libs.index.IndexEngine.get_loc\u001b[0;34m()\u001b[0m\n",
                        "\u001b[0;32mpandas/_libs/hashtable_class_helper.pxi\u001b[0m in \u001b[0;36mpandas._libs.hashtable.PyObjectHashTable.get_item\u001b[0;34m()\u001b[0m\n",
                        "\u001b[0;32mpandas/_libs/hashtable_class_helper.pxi\u001b[0m in \u001b[0;36mpandas._libs.hashtable.PyObjectHashTable.get_item\u001b[0;34m()\u001b[0m\n",
                        "\u001b[0;31mKeyError\u001b[0m: 'Cluster Labels'"
                    ]
                }
            ],
            "source": ""
        },
        {
            "cell_type": "code",
            "execution_count": null,
            "metadata": {},
            "outputs": [],
            "source": "import matplotlib.cm as cm\nimport matplotlib.colors as colors\n\n# create map\nmap_clusters = folium.Map(location=[latitude, longitude], zoom_start=11)\n\n# set color scheme for the clusters\nx = np.arange(kclusters)\nys = [i + x + (i*x)**2 for i in range(kclusters)]\ncolors_array = cm.rainbow(np.linspace(0, 1, len(ys)))\nrainbow = [colors.rgb2hex(i) for i in colors_array]\n\ntoronto_merged_nonan = toronto_merged.dropna(subset=['Cluster Labels'])\n\n# add markers to the map\nmarkers_colors = []\nfor lat, lon, poi, cluster in zip(toronto_merged_nonan['Latitude'], toronto_merged_nonan['Longitude'], toronto_merged_nonan['Neighborhood'], toronto_merged_nonan['Cluster Labels']):\n    label = folium.Popup(str(poi) + ' Cluster ' + str(cluster), parse_html=True)\n    folium.CircleMarker(\n        [lat, lon],\n        radius=5,\n        popup=label,\n        color=rainbow[int(cluster-1)],\n        fill=True,\n        fill_color=rainbow[int(cluster-1)],\n        fill_opacity=0.7).add_to(map_clusters)\n       \nmap_clusters"
        },
        {
            "cell_type": "code",
            "execution_count": null,
            "metadata": {},
            "outputs": [],
            "source": "toronto_merged_nonan.loc[toronto_merged_nonan['Cluster Labels'] == 0, toronto_merged_nonan.columns[[1] + list(range(5, toronto_merged_nonan.shape[1]))]]"
        },
        {
            "cell_type": "code",
            "execution_count": null,
            "metadata": {},
            "outputs": [],
            "source": "toronto_merged_nonan.loc[toronto_merged_nonan['Cluster Labels'] == 1, toronto_merged_nonan.columns[[1] + list(range(5, toronto_merged_nonan.shape[1]))]]"
        },
        {
            "cell_type": "code",
            "execution_count": null,
            "metadata": {},
            "outputs": [],
            "source": "toronto_merged_nonan.loc[toronto_merged_nonan['Cluster Labels'] == 2, toronto_merged_nonan.columns[[1] + list(range(5, toronto_merged_nonan.shape[1]))]]"
        },
        {
            "cell_type": "code",
            "execution_count": null,
            "metadata": {},
            "outputs": [],
            "source": "toronto_merged_nonan.loc[toronto_merged_nonan['Cluster Labels'] == 3, toronto_merged_nonan.columns[[1] + list(range(5, toronto_merged_nonan.shape[1]))]]"
        },
        {
            "cell_type": "code",
            "execution_count": null,
            "metadata": {},
            "outputs": [],
            "source": "toronto_merged_nonan.loc[toronto_merged_nonan['Cluster Labels'] == 4, toronto_merged_nonan.columns[[1] + list(range(5, toronto_merged_nonan.shape[1]))]]"
        }
    ],
    "metadata": {
        "kernelspec": {
            "display_name": "Python 3.6",
            "language": "python",
            "name": "python3"
        },
        "language_info": {
            "codemirror_mode": {
                "name": "ipython",
                "version": 3
            },
            "file_extension": ".py",
            "mimetype": "text/x-python",
            "name": "python",
            "nbconvert_exporter": "python",
            "pygments_lexer": "ipython3",
            "version": "3.6.9"
        }
    },
    "nbformat": 4,
    "nbformat_minor": 1
}